{
 "metadata": {
  "name": "",
  "signature": "sha256:34f83f9d0184615589b3d82f2dea32cec0e9cd02ee5f7bf2c535072bd00ee18a"
 },
 "nbformat": 3,
 "nbformat_minor": 0,
 "worksheets": [
  {
   "cells": [
    {
     "cell_type": "code",
     "collapsed": false,
     "input": [
      "from collections import OrderedDict\n",
      "import pandas as pd\n",
      "\n",
      "# we throw the data into a pandas df\n",
      "from bokeh.sampledata.olympics2014 import data\n",
      "from bokeh.charts import Bar\n",
      "from bokeh.plotting import output_file, show\n",
      "from bokeh.plotting import output_notebook\n",
      "output_notebook()"
     ],
     "language": "python",
     "metadata": {},
     "outputs": [],
     "prompt_number": 132
    },
    {
     "cell_type": "code",
     "collapsed": false,
     "input": [
      "df = pd.io.json.json_normalize(data['data'])\n",
      "df.abbr.values"
     ],
     "language": "python",
     "metadata": {},
     "outputs": [
      {
       "metadata": {},
       "output_type": "pyout",
       "prompt_number": 35,
       "text": [
        "array([u'ALB', u'AND', u'ARG', u'ARM', u'AUS', u'AUT', u'AZE', u'BLR',\n",
        "       u'BEL', u'BMU', u'BIH', u'BRA', u'BGR', u'CAN', u'CYM', u'CHL',\n",
        "       u'CHN', u'TWN', u'HRV', u'CYP', u'CZE', u'DNK', u'DMA', u'EST',\n",
        "       u'FIN', u'FRA', u'GEO', u'DEU', u'GBR', u'GRC', u'HKG', u'HUN',\n",
        "       u'ISL', u'IRI', u'IRL', u'ISR', u'ITA', u'JAM', u'JPN', u'KAZ',\n",
        "       u'KOR', u'KGZ', u'LVA', u'LBN', u'LIE', u'LTU', u'LUX', u'MLT',\n",
        "       u'MEX', u'MCO', u'MNG', u'MNE', u'MAR', u'NPL', u'NLD', u'NZL',\n",
        "       u'NOR', u'PAK', u'PRY', u'PER', u'PHL', u'POL', u'PRT', u'MDA',\n",
        "       u'ROU', u'RUS', u'SMR', u'SRB', u'SVK', u'SVN', u'ESP', u'SWE',\n",
        "       u'CHE', u'TJK', u'THA', u'MKD', u'TLS', u'TGO', u'TON', u'TUR',\n",
        "       u'UKR', u'USA', u'UZB', u'VEN', u'IVB', u'ISV', u'ZWE'], dtype=object)"
       ]
      }
     ],
     "prompt_number": 35
    },
    {
     "cell_type": "code",
     "collapsed": false,
     "input": [
      "# we filter by countries with at least one medal and sort\n",
      "df = df[df['medals.total'] > 0]\n",
      "df = df.sort(\"medals.total\", ascending=False)\n",
      "\n",
      "# then, we get the countries and we group the data by medal type\n",
      "countries = df.abbr.values.tolist()\n",
      "gold = df['medals.gold'].astype(float).values\n",
      "silver = df['medals.silver'].astype(float).values\n",
      "bronze = df['medals.bronze'].astype(float).values\n",
      "\n",
      "# later, we build a dict containing the grouped data\n",
      "medals = OrderedDict(bronze=bronze, silver=silver, gold=gold)\n",
      "\n",
      "# any of the following commented are valid Bar inputs\n",
      "#medals = pd.DataFrame(medals)\n",
      "#medals = list(medals.values())\n",
      "output_file(\"stacked_bar.html\")\n",
      "bar = Bar(medals, countries, title=\"Stacked bars\", filename=\"stacked_bar.html\", stacked=True)\n",
      "show(bar)"
     ],
     "language": "python",
     "metadata": {},
     "outputs": [
      {
       "html": [
        "<script type=\"text/javascript\">\n",
        "        Bokeh.$(function() {\n",
        "            var modelid = \"9fea61c4-125c-4f45-aa93-6d5092e68407\";\n",
        "            var modeltype = \"Plot\";\n",
        "            var elementid = \"1dbb8771-6467-4997-8e21-15c52ad4cfc7\";\n",
        "            Bokeh.logger.info(\"Realizing plot:\")\n",
        "            Bokeh.logger.info(\" - modeltype: Plot\");\n",
        "            Bokeh.logger.info(\" - modelid: 9fea61c4-125c-4f45-aa93-6d5092e68407\");\n",
        "            Bokeh.logger.info(\" - elementid: 1dbb8771-6467-4997-8e21-15c52ad4cfc7\");\n",
        "            var all_models = [{\"attributes\": {\"plot\": {\"subtype\": \"Chart\", \"type\": \"Plot\", \"id\": \"9fea61c4-125c-4f45-aa93-6d5092e68407\"}, \"tags\": [], \"doc\": null, \"axis_label\": \"y-axis\", \"formatter\": {\"type\": \"BasicTickFormatter\", \"id\": \"e9b0c537-1d6d-4e4f-addd-460f2ee60a03\"}, \"ticker\": {\"type\": \"BasicTicker\", \"id\": \"798245a7-194e-4a99-b39b-8f58e9e22ea6\"}, \"id\": \"5dd69b19-81bd-477f-a28a-8cb8baa4dbe7\"}, \"type\": \"LinearAxis\", \"id\": \"5dd69b19-81bd-477f-a28a-8cb8baa4dbe7\"}, {\"attributes\": {\"plot\": {\"subtype\": \"Chart\", \"type\": \"Plot\", \"id\": \"9fea61c4-125c-4f45-aa93-6d5092e68407\"}, \"tags\": [], \"doc\": null, \"major_label_orientation\": 0.7853981633974483, \"axis_label\": \"x-axis\", \"formatter\": {\"type\": \"CategoricalTickFormatter\", \"id\": \"444f011f-fe11-456a-be22-367ee67ba90a\"}, \"ticker\": {\"type\": \"CategoricalTicker\", \"id\": \"4840bb75-4243-446d-8dda-8dd7f3dd8587\"}, \"id\": \"b555cdb0-b359-47d9-8edd-e249a1a129f1\"}, \"type\": \"CategoricalAxis\", \"id\": \"b555cdb0-b359-47d9-8edd-e249a1a129f1\"}, {\"attributes\": {\"doc\": null, \"id\": \"444f011f-fe11-456a-be22-367ee67ba90a\", \"tags\": []}, \"type\": \"CategoricalTickFormatter\", \"id\": \"444f011f-fe11-456a-be22-367ee67ba90a\"}, {\"subtype\": \"Chart\", \"type\": \"Plot\", \"id\": \"9fea61c4-125c-4f45-aa93-6d5092e68407\", \"attributes\": {\"x_range\": {\"type\": \"FactorRange\", \"id\": \"e46c9907-4736-40ed-9c8c-8f012d6f8d51\"}, \"right\": [], \"above\": [], \"tags\": [], \"tools\": [{\"type\": \"PanTool\", \"id\": \"98de62a0-22c5-43ce-b1fe-4744eb60fd2c\"}, {\"type\": \"WheelZoomTool\", \"id\": \"5159bbea-4981-44cf-a95d-44dc25763b7f\"}, {\"type\": \"BoxZoomTool\", \"id\": \"a975979e-7d0c-4001-938a-3f2ad26cbd13\"}, {\"type\": \"PreviewSaveTool\", \"id\": \"35faaed9-0bf3-42e5-931b-7c7fcc848dbd\"}, {\"type\": \"ResizeTool\", \"id\": \"43b68f27-e435-4d97-8fa2-808dd392e48e\"}, {\"type\": \"ResetTool\", \"id\": \"cc9a9292-5161-4200-b185-193fe0f54573\"}], \"title\": \"Stacked bars\", \"renderers\": [{\"type\": \"CategoricalAxis\", \"id\": \"b555cdb0-b359-47d9-8edd-e249a1a129f1\"}, {\"type\": \"LinearAxis\", \"id\": \"5dd69b19-81bd-477f-a28a-8cb8baa4dbe7\"}, {\"type\": \"Grid\", \"id\": \"2340a54f-1728-4f85-a78b-afd49a2a8fd3\"}, {\"type\": \"GlyphRenderer\", \"id\": \"d52c1723-a8c7-47f9-b1a0-60366ae8134a\"}, {\"type\": \"GlyphRenderer\", \"id\": \"a1c37b97-4df7-4813-a3e0-5d6d724434fd\"}, {\"type\": \"GlyphRenderer\", \"id\": \"70da438a-bcdc-4d14-bd56-b3960fd59bdb\"}], \"plot_width\": 600, \"extra_y_ranges\": {}, \"extra_x_ranges\": {}, \"tool_events\": {\"type\": \"ToolEvents\", \"id\": \"8a261f4a-cc9b-4113-b6f9-7bad640aac59\"}, \"plot_height\": 400, \"doc\": null, \"id\": \"9fea61c4-125c-4f45-aa93-6d5092e68407\", \"y_range\": {\"type\": \"Range1d\", \"id\": \"e520511e-3d1d-4bf2-ab58-6a698965e9d1\"}, \"below\": [{\"type\": \"CategoricalAxis\", \"id\": \"b555cdb0-b359-47d9-8edd-e249a1a129f1\"}], \"left\": [{\"type\": \"LinearAxis\", \"id\": \"5dd69b19-81bd-477f-a28a-8cb8baa4dbe7\"}]}}, {\"attributes\": {\"tags\": [], \"doc\": null, \"mantissas\": [2, 5, 10], \"id\": \"798245a7-194e-4a99-b39b-8f58e9e22ea6\"}, \"type\": \"BasicTicker\", \"id\": \"798245a7-194e-4a99-b39b-8f58e9e22ea6\"}, {\"attributes\": {\"column_names\": [\"width_cat\", \"stackedgold\", \"gold\", \"stackedsilver\", \"midbronze\", \"midsilver\", \"stackedbronze\", \"cat\", \"width\", \"zero\", \"catbronze\", \"catsilver\", \"catgold\", \"silver\", \"bronze\", \"midgold\"], \"tags\": [], \"doc\": null, \"selected\": [], \"data\": {\"width_cat\": [0.2, 0.2, 0.2, 0.2, 0.2, 0.2, 0.2, 0.2, 0.2, 0.2, 0.2, 0.2, 0.2, 0.2, 0.2, 0.2, 0.2, 0.2, 0.2, 0.2, 0.2, 0.2, 0.2, 0.2, 0.2, 0.2], \"stackedgold\": [18.0, 17.0, 17.0, 15.0, 14.0, 11.0, 7.0, 8.5, 8.0, 8.0, 6.0, 6.5, 4.5, 5.5, 6.0, 3.5, 2.0, 3.0, 3.0, 3.0, 3.0, 1.5, 0.5, 1.0, 1.0, 1.0], \"gold\": [6.0, 6.0, 6.0, 8.0, 4.0, 8.0, 6.0, 3.0, 2.0, 2.0, 2.0, 1.0, 3.0, 1.0, 0.0, 5.0, 4.0, 2.0, 0.0, 0.0, 0.0, 1.0, 1.0, 0.0, 0.0, 0.0], \"stackedsilver\": [11.0, 12.0, 11.0, 9.0, 8.0, 5.5, 2.5, 6.0, 4.5, 4.0, 4.5, 4.0, 2.0, 3.5, 5.0, 1.0, 0.0, 1.5, 2.0, 2.5, 1.5, 1.0, 0.0, 0.5, 1.0, 1.0], \"midbronze\": [3.5, 5.0, 4.0, 3.5, 2.0, 2.0, 0.5, 2.5, 1.0, 0.5, 2.0, 1.0, 0.5, 1.0, 2.0, 0.5, 0.0, 0.5, 0.5, 1.0, 0.0, 0.5, 0.0, 0.0, 0.5, 0.5], \"midsilver\": [4.0, 2.0, 3.0, 2.0, 4.0, 1.5, 1.5, 1.0, 2.5, 3.0, 0.5, 2.0, 1.0, 1.5, 1.0, 0.0, 0.0, 0.5, 1.0, 0.5, 1.5, 0.0, 0.0, 0.5, 0.0, 0.0], \"zero\": [21.0, 20.0, 20.0, 19.0, 16.0, 15.0, 10.0, 10.0, 9.0, 9.0, 7.0, 7.0, 6.0, 6.0, 6.0, 6.0, 4.0, 4.0, 3.0, 3.0, 3.0, 2.0, 1.0, 1.0, 1.0, 1.0], \"cat\": [\"RUS\", \"USA\", \"NLD\", \"NOR\", \"CAN\", \"DEU\", \"CHE\", \"FRA\", \"SWE\", \"AUT\", \"SVN\", \"JPN\", \"CHN\", \"CZE\", \"ITA\", \"BLR\", \"POL\", \"KOR\", \"AUS\", \"LVA\", \"FIN\", \"GBR\", \"SVK\", \"HRV\", \"UKR\", \"KAZ\"], \"width\": [0.8, 0.8, 0.8, 0.8, 0.8, 0.8, 0.8, 0.8, 0.8, 0.8, 0.8, 0.8, 0.8, 0.8, 0.8, 0.8, 0.8, 0.8, 0.8, 0.8, 0.8, 0.8, 0.8, 0.8, 0.8, 0.8], \"stackedbronze\": [3.5, 5.0, 4.0, 3.5, 2.0, 2.0, 0.5, 2.5, 1.0, 0.5, 2.0, 1.0, 0.5, 1.0, 2.0, 0.5, 0.0, 0.5, 0.5, 1.0, 0.0, 0.5, 0.0, 0.0, 0.5, 0.5], \"catbronze\": [\"RUS:0.25\", \"USA:0.25\", \"NLD:0.25\", \"NOR:0.25\", \"CAN:0.25\", \"DEU:0.25\", \"CHE:0.25\", \"FRA:0.25\", \"SWE:0.25\", \"AUT:0.25\", \"SVN:0.25\", \"JPN:0.25\", \"CHN:0.25\", \"CZE:0.25\", \"ITA:0.25\", \"BLR:0.25\", \"POL:0.25\", \"KOR:0.25\", \"AUS:0.25\", \"LVA:0.25\", \"FIN:0.25\", \"GBR:0.25\", \"SVK:0.25\", \"HRV:0.25\", \"UKR:0.25\", \"KAZ:0.25\"], \"catsilver\": [\"RUS:0.5\", \"USA:0.5\", \"NLD:0.5\", \"NOR:0.5\", \"CAN:0.5\", \"DEU:0.5\", \"CHE:0.5\", \"FRA:0.5\", \"SWE:0.5\", \"AUT:0.5\", \"SVN:0.5\", \"JPN:0.5\", \"CHN:0.5\", \"CZE:0.5\", \"ITA:0.5\", \"BLR:0.5\", \"POL:0.5\", \"KOR:0.5\", \"AUS:0.5\", \"LVA:0.5\", \"FIN:0.5\", \"GBR:0.5\", \"SVK:0.5\", \"HRV:0.5\", \"UKR:0.5\", \"KAZ:0.5\"], \"catgold\": [\"RUS:0.75\", \"USA:0.75\", \"NLD:0.75\", \"NOR:0.75\", \"CAN:0.75\", \"DEU:0.75\", \"CHE:0.75\", \"FRA:0.75\", \"SWE:0.75\", \"AUT:0.75\", \"SVN:0.75\", \"JPN:0.75\", \"CHN:0.75\", \"CZE:0.75\", \"ITA:0.75\", \"BLR:0.75\", \"POL:0.75\", \"KOR:0.75\", \"AUS:0.75\", \"LVA:0.75\", \"FIN:0.75\", \"GBR:0.75\", \"SVK:0.75\", \"HRV:0.75\", \"UKR:0.75\", \"KAZ:0.75\"], \"silver\": [8.0, 4.0, 6.0, 4.0, 8.0, 3.0, 3.0, 2.0, 5.0, 6.0, 1.0, 4.0, 2.0, 3.0, 2.0, 0.0, 0.0, 1.0, 2.0, 1.0, 3.0, 0.0, 0.0, 1.0, 0.0, 0.0], \"bronze\": [7.0, 10.0, 8.0, 7.0, 4.0, 4.0, 1.0, 5.0, 2.0, 1.0, 4.0, 2.0, 1.0, 2.0, 4.0, 1.0, 0.0, 1.0, 1.0, 2.0, 0.0, 1.0, 0.0, 0.0, 1.0, 1.0], \"midgold\": [3.0, 3.0, 3.0, 4.0, 2.0, 4.0, 3.0, 1.5, 1.0, 1.0, 1.0, 0.5, 1.5, 0.5, 0.0, 2.5, 2.0, 1.0, 0.0, 0.0, 0.0, 0.5, 0.5, 0.0, 0.0, 0.0]}, \"id\": \"d81f3e3b-6815-44b6-832c-dd6c21fa0a65\"}, \"type\": \"ColumnDataSource\", \"id\": \"d81f3e3b-6815-44b6-832c-dd6c21fa0a65\"}, {\"attributes\": {\"plot\": {\"subtype\": \"Chart\", \"type\": \"Plot\", \"id\": \"9fea61c4-125c-4f45-aa93-6d5092e68407\"}, \"dimensions\": [\"width\", \"height\"], \"tags\": [], \"doc\": null, \"id\": \"5159bbea-4981-44cf-a95d-44dc25763b7f\"}, \"type\": \"WheelZoomTool\", \"id\": \"5159bbea-4981-44cf-a95d-44dc25763b7f\"}, {\"attributes\": {\"doc\": null, \"id\": \"4840bb75-4243-446d-8dda-8dd7f3dd8587\", \"tags\": []}, \"type\": \"CategoricalTicker\", \"id\": \"4840bb75-4243-446d-8dda-8dd7f3dd8587\"}, {\"attributes\": {\"plot\": {\"subtype\": \"Chart\", \"type\": \"Plot\", \"id\": \"9fea61c4-125c-4f45-aa93-6d5092e68407\"}, \"tags\": [], \"doc\": null, \"dimension\": 1, \"ticker\": {\"type\": \"BasicTicker\", \"id\": \"798245a7-194e-4a99-b39b-8f58e9e22ea6\"}, \"id\": \"2340a54f-1728-4f85-a78b-afd49a2a8fd3\"}, \"type\": \"Grid\", \"id\": \"2340a54f-1728-4f85-a78b-afd49a2a8fd3\"}, {\"attributes\": {\"geometries\": [], \"tags\": [], \"doc\": null, \"id\": \"8a261f4a-cc9b-4113-b6f9-7bad640aac59\"}, \"type\": \"ToolEvents\", \"id\": \"8a261f4a-cc9b-4113-b6f9-7bad640aac59\"}, {\"attributes\": {\"doc\": null, \"id\": \"e9b0c537-1d6d-4e4f-addd-460f2ee60a03\", \"tags\": []}, \"type\": \"BasicTickFormatter\", \"id\": \"e9b0c537-1d6d-4e4f-addd-460f2ee60a03\"}, {\"attributes\": {\"plot\": {\"subtype\": \"Chart\", \"type\": \"Plot\", \"id\": \"9fea61c4-125c-4f45-aa93-6d5092e68407\"}, \"dimensions\": [\"width\", \"height\"], \"tags\": [], \"doc\": null, \"id\": \"98de62a0-22c5-43ce-b1fe-4744eb60fd2c\"}, \"type\": \"PanTool\", \"id\": \"98de62a0-22c5-43ce-b1fe-4744eb60fd2c\"}, {\"attributes\": {\"plot\": {\"subtype\": \"Chart\", \"type\": \"Plot\", \"id\": \"9fea61c4-125c-4f45-aa93-6d5092e68407\"}, \"dimensions\": [\"width\", \"height\"], \"tags\": [], \"doc\": null, \"id\": \"a975979e-7d0c-4001-938a-3f2ad26cbd13\"}, \"type\": \"BoxZoomTool\", \"id\": \"a975979e-7d0c-4001-938a-3f2ad26cbd13\"}, {\"attributes\": {\"plot\": {\"subtype\": \"Chart\", \"type\": \"Plot\", \"id\": \"9fea61c4-125c-4f45-aa93-6d5092e68407\"}, \"tags\": [], \"doc\": null, \"id\": \"35faaed9-0bf3-42e5-931b-7c7fcc848dbd\"}, \"type\": \"PreviewSaveTool\", \"id\": \"35faaed9-0bf3-42e5-931b-7c7fcc848dbd\"}, {\"attributes\": {\"plot\": {\"subtype\": \"Chart\", \"type\": \"Plot\", \"id\": \"9fea61c4-125c-4f45-aa93-6d5092e68407\"}, \"tags\": [], \"doc\": null, \"id\": \"43b68f27-e435-4d97-8fa2-808dd392e48e\"}, \"type\": \"ResizeTool\", \"id\": \"43b68f27-e435-4d97-8fa2-808dd392e48e\"}, {\"attributes\": {\"plot\": {\"subtype\": \"Chart\", \"type\": \"Plot\", \"id\": \"9fea61c4-125c-4f45-aa93-6d5092e68407\"}, \"tags\": [], \"doc\": null, \"id\": \"cc9a9292-5161-4200-b185-193fe0f54573\"}, \"type\": \"ResetTool\", \"id\": \"cc9a9292-5161-4200-b185-193fe0f54573\"}, {\"attributes\": {\"start\": 0, \"end\": 23.100000000000001, \"tags\": [], \"doc\": null, \"id\": \"e520511e-3d1d-4bf2-ab58-6a698965e9d1\"}, \"type\": \"Range1d\", \"id\": \"e520511e-3d1d-4bf2-ab58-6a698965e9d1\"}, {\"attributes\": {\"line_color\": {\"value\": \"white\"}, \"fill_color\": {\"value\": \"#f22c40\"}, \"tags\": [], \"doc\": null, \"fill_alpha\": {\"units\": \"data\", \"value\": 0.7}, \"height\": {\"units\": \"data\", \"field\": \"bronze\"}, \"width\": {\"units\": \"data\", \"field\": \"width\"}, \"y\": {\"units\": \"data\", \"field\": \"stackedbronze\"}, \"x\": {\"units\": \"data\", \"field\": \"cat\"}, \"id\": \"779fbc26-171a-4e61-aca8-cbac1ede1268\"}, \"type\": \"Rect\", \"id\": \"779fbc26-171a-4e61-aca8-cbac1ede1268\"}, {\"attributes\": {\"nonselection_glyph\": null, \"data_source\": {\"type\": \"ColumnDataSource\", \"id\": \"d81f3e3b-6815-44b6-832c-dd6c21fa0a65\"}, \"tags\": [], \"doc\": null, \"selection_glyph\": null, \"id\": \"d52c1723-a8c7-47f9-b1a0-60366ae8134a\", \"glyph\": {\"type\": \"Rect\", \"id\": \"779fbc26-171a-4e61-aca8-cbac1ede1268\"}}, \"type\": \"GlyphRenderer\", \"id\": \"d52c1723-a8c7-47f9-b1a0-60366ae8134a\"}, {\"attributes\": {\"line_color\": {\"value\": \"white\"}, \"fill_color\": {\"value\": \"#5ab738\"}, \"tags\": [], \"doc\": null, \"fill_alpha\": {\"units\": \"data\", \"value\": 0.7}, \"height\": {\"units\": \"data\", \"field\": \"silver\"}, \"width\": {\"units\": \"data\", \"field\": \"width\"}, \"y\": {\"units\": \"data\", \"field\": \"stackedsilver\"}, \"x\": {\"units\": \"data\", \"field\": \"cat\"}, \"id\": \"68e2c5c3-0be7-400d-a89c-866ccc1fa7a2\"}, \"type\": \"Rect\", \"id\": \"68e2c5c3-0be7-400d-a89c-866ccc1fa7a2\"}, {\"attributes\": {\"nonselection_glyph\": null, \"data_source\": {\"type\": \"ColumnDataSource\", \"id\": \"d81f3e3b-6815-44b6-832c-dd6c21fa0a65\"}, \"tags\": [], \"doc\": null, \"selection_glyph\": null, \"id\": \"a1c37b97-4df7-4813-a3e0-5d6d724434fd\", \"glyph\": {\"type\": \"Rect\", \"id\": \"68e2c5c3-0be7-400d-a89c-866ccc1fa7a2\"}}, \"type\": \"GlyphRenderer\", \"id\": \"a1c37b97-4df7-4813-a3e0-5d6d724434fd\"}, {\"attributes\": {\"factors\": [\"RUS\", \"USA\", \"NLD\", \"NOR\", \"CAN\", \"DEU\", \"CHE\", \"FRA\", \"SWE\", \"AUT\", \"SVN\", \"JPN\", \"CHN\", \"CZE\", \"ITA\", \"BLR\", \"POL\", \"KOR\", \"AUS\", \"LVA\", \"FIN\", \"GBR\", \"SVK\", \"HRV\", \"UKR\", \"KAZ\"], \"doc\": null, \"tags\": [], \"id\": \"e46c9907-4736-40ed-9c8c-8f012d6f8d51\"}, \"type\": \"FactorRange\", \"id\": \"e46c9907-4736-40ed-9c8c-8f012d6f8d51\"}, {\"attributes\": {\"line_color\": {\"value\": \"white\"}, \"fill_color\": {\"value\": \"#407ee7\"}, \"tags\": [], \"doc\": null, \"fill_alpha\": {\"units\": \"data\", \"value\": 0.7}, \"height\": {\"units\": \"data\", \"field\": \"gold\"}, \"width\": {\"units\": \"data\", \"field\": \"width\"}, \"y\": {\"units\": \"data\", \"field\": \"stackedgold\"}, \"x\": {\"units\": \"data\", \"field\": \"cat\"}, \"id\": \"32f17064-0341-4ba3-9d13-e166eeca7282\"}, \"type\": \"Rect\", \"id\": \"32f17064-0341-4ba3-9d13-e166eeca7282\"}, {\"attributes\": {\"nonselection_glyph\": null, \"data_source\": {\"type\": \"ColumnDataSource\", \"id\": \"d81f3e3b-6815-44b6-832c-dd6c21fa0a65\"}, \"tags\": [], \"doc\": null, \"selection_glyph\": null, \"id\": \"70da438a-bcdc-4d14-bd56-b3960fd59bdb\", \"glyph\": {\"type\": \"Rect\", \"id\": \"32f17064-0341-4ba3-9d13-e166eeca7282\"}}, \"type\": \"GlyphRenderer\", \"id\": \"70da438a-bcdc-4d14-bd56-b3960fd59bdb\"}];\n",
        "            Bokeh.load_models(all_models);\n",
        "            var model = Bokeh.Collections(modeltype).get(modelid);\n",
        "            var view = new model.default_view({model: model, el: '#1dbb8771-6467-4997-8e21-15c52ad4cfc7'});\n",
        "            Bokeh.index[modelid] = view\n",
        "        });\n",
        "    </script>\n",
        "<div class=\"plotdiv\" id=\"1dbb8771-6467-4997-8e21-15c52ad4cfc7\"></div>\n",
        "\n"
       ],
       "metadata": {},
       "output_type": "display_data"
      }
     ],
     "prompt_number": 15
    },
    {
     "cell_type": "code",
     "collapsed": false,
     "input": [
      "df2 = pd.read_csv('debt.csv')"
     ],
     "language": "python",
     "metadata": {},
     "outputs": [],
     "prompt_number": 20
    },
    {
     "cell_type": "code",
     "collapsed": false,
     "input": [
      "creditor_sum = df2.groupby('creditor').sum()"
     ],
     "language": "python",
     "metadata": {},
     "outputs": [],
     "prompt_number": 105
    },
    {
     "cell_type": "code",
     "collapsed": false,
     "input": [
      "#df2.sort(['creditor'],ascending = True).creditor.values.tolist()"
     ],
     "language": "python",
     "metadata": {},
     "outputs": [],
     "prompt_number": 38
    },
    {
     "cell_type": "code",
     "collapsed": false,
     "input": [
      "creditor_sum\n",
      "bar2 = Bar(creditor_sum['amount'].values, title=\"Stacked bars\", filename=\"stacked_bar.html\")\n",
      "show(bar2)"
     ],
     "language": "python",
     "metadata": {},
     "outputs": [
      {
       "html": [
        "<script type=\"text/javascript\">\n",
        "        Bokeh.$(function() {\n",
        "            var modelid = \"875794ef-d5fb-4e65-983d-ed232a78b253\";\n",
        "            var modeltype = \"Plot\";\n",
        "            var elementid = \"9ce11d8e-b2be-4e71-b68b-1e53bdae053e\";\n",
        "            Bokeh.logger.info(\"Realizing plot:\")\n",
        "            Bokeh.logger.info(\" - modeltype: Plot\");\n",
        "            Bokeh.logger.info(\" - modelid: 875794ef-d5fb-4e65-983d-ed232a78b253\");\n",
        "            Bokeh.logger.info(\" - elementid: 9ce11d8e-b2be-4e71-b68b-1e53bdae053e\");\n",
        "            var all_models = [{\"attributes\": {\"plot\": {\"subtype\": \"Chart\", \"type\": \"Plot\", \"id\": \"875794ef-d5fb-4e65-983d-ed232a78b253\"}, \"tags\": [], \"doc\": null, \"id\": \"f780f99f-26c7-4588-adb7-a88592f82bca\"}, \"type\": \"ResizeTool\", \"id\": \"f780f99f-26c7-4588-adb7-a88592f82bca\"}, {\"attributes\": {\"plot\": {\"subtype\": \"Chart\", \"type\": \"Plot\", \"id\": \"875794ef-d5fb-4e65-983d-ed232a78b253\"}, \"tags\": [], \"doc\": null, \"id\": \"635c9db2-7671-4bad-9541-2fa7595f648c\"}, \"type\": \"ResetTool\", \"id\": \"635c9db2-7671-4bad-9541-2fa7595f648c\"}, {\"attributes\": {\"line_color\": {\"value\": \"white\"}, \"fill_color\": {\"value\": \"#f22c40\"}, \"tags\": [], \"doc\": null, \"fill_alpha\": {\"units\": \"data\", \"value\": 0.7}, \"height\": {\"units\": \"data\", \"field\": \"0\"}, \"width\": {\"units\": \"data\", \"field\": \"width_cat\"}, \"y\": {\"units\": \"data\", \"field\": \"mid0\"}, \"x\": {\"units\": \"data\", \"field\": \"cat0\"}, \"id\": \"58ed0aa8-3dc3-4b5e-a52f-de83f24e4efa\"}, \"type\": \"Rect\", \"id\": \"58ed0aa8-3dc3-4b5e-a52f-de83f24e4efa\"}, {\"attributes\": {\"doc\": null, \"id\": \"bff4e3ee-ac3e-4377-ab10-bd3988793363\", \"tags\": []}, \"type\": \"BasicTickFormatter\", \"id\": \"bff4e3ee-ac3e-4377-ab10-bd3988793363\"}, {\"attributes\": {\"plot\": {\"subtype\": \"Chart\", \"type\": \"Plot\", \"id\": \"875794ef-d5fb-4e65-983d-ed232a78b253\"}, \"tags\": [], \"doc\": null, \"major_label_orientation\": 0.7853981633974483, \"axis_label\": \"x-axis\", \"formatter\": {\"type\": \"CategoricalTickFormatter\", \"id\": \"e9c59b9b-8a33-44ed-ba06-24b6be712579\"}, \"ticker\": {\"type\": \"CategoricalTicker\", \"id\": \"a63af72c-b149-4e54-a763-3756a163f3f8\"}, \"id\": \"8b82776c-5826-41df-adae-ee6656b24803\"}, \"type\": \"CategoricalAxis\", \"id\": \"8b82776c-5826-41df-adae-ee6656b24803\"}, {\"attributes\": {\"geometries\": [], \"tags\": [], \"doc\": null, \"id\": \"c3aa98fa-9f78-4867-8f46-b0bee1271a6a\"}, \"type\": \"ToolEvents\", \"id\": \"c3aa98fa-9f78-4867-8f46-b0bee1271a6a\"}, {\"subtype\": \"Chart\", \"type\": \"Plot\", \"id\": \"875794ef-d5fb-4e65-983d-ed232a78b253\", \"attributes\": {\"x_range\": {\"type\": \"FactorRange\", \"id\": \"11246a9f-01cf-435f-840c-562979b65baf\"}, \"right\": [], \"above\": [], \"tags\": [], \"tools\": [{\"type\": \"PanTool\", \"id\": \"b4eb580e-2be6-45e0-9f18-0eb7bfcf4244\"}, {\"type\": \"WheelZoomTool\", \"id\": \"92443417-81b8-4d1e-8cbc-95be15a02d37\"}, {\"type\": \"BoxZoomTool\", \"id\": \"ddadb33c-c915-4bdf-a563-da625bc2b4e4\"}, {\"type\": \"PreviewSaveTool\", \"id\": \"7ed9cb0d-6dca-4d48-9ea3-8a0d9fb0edb6\"}, {\"type\": \"ResizeTool\", \"id\": \"f780f99f-26c7-4588-adb7-a88592f82bca\"}, {\"type\": \"ResetTool\", \"id\": \"635c9db2-7671-4bad-9541-2fa7595f648c\"}], \"title\": \"Stacked bars\", \"renderers\": [{\"type\": \"CategoricalAxis\", \"id\": \"8b82776c-5826-41df-adae-ee6656b24803\"}, {\"type\": \"LinearAxis\", \"id\": \"4c7ed048-6590-4122-a478-84132af838e8\"}, {\"type\": \"Grid\", \"id\": \"50aff711-a75b-4d05-8bbb-7c491fb905cc\"}, {\"type\": \"GlyphRenderer\", \"id\": \"f18004c8-91f6-4bf2-be3e-10d33f13d147\"}], \"plot_width\": 600, \"extra_y_ranges\": {}, \"extra_x_ranges\": {}, \"tool_events\": {\"type\": \"ToolEvents\", \"id\": \"c3aa98fa-9f78-4867-8f46-b0bee1271a6a\"}, \"plot_height\": 400, \"doc\": null, \"id\": \"875794ef-d5fb-4e65-983d-ed232a78b253\", \"y_range\": {\"type\": \"Range1d\", \"id\": \"b6fcad11-bf35-410f-8c58-cd08cfb63717\"}, \"below\": [{\"type\": \"CategoricalAxis\", \"id\": \"8b82776c-5826-41df-adae-ee6656b24803\"}], \"left\": [{\"type\": \"LinearAxis\", \"id\": \"4c7ed048-6590-4122-a478-84132af838e8\"}]}}, {\"attributes\": {\"factors\": [\"0\", \"1\", \"2\", \"3\", \"4\", \"5\", \"6\", \"7\", \"8\"], \"doc\": null, \"tags\": [], \"id\": \"11246a9f-01cf-435f-840c-562979b65baf\"}, \"type\": \"FactorRange\", \"id\": \"11246a9f-01cf-435f-840c-562979b65baf\"}, {\"attributes\": {\"plot\": {\"subtype\": \"Chart\", \"type\": \"Plot\", \"id\": \"875794ef-d5fb-4e65-983d-ed232a78b253\"}, \"tags\": [], \"doc\": null, \"axis_label\": \"y-axis\", \"formatter\": {\"type\": \"BasicTickFormatter\", \"id\": \"bff4e3ee-ac3e-4377-ab10-bd3988793363\"}, \"ticker\": {\"type\": \"BasicTicker\", \"id\": \"02193519-e6f8-428a-b3fe-7bd0febfb503\"}, \"id\": \"4c7ed048-6590-4122-a478-84132af838e8\"}, \"type\": \"LinearAxis\", \"id\": \"4c7ed048-6590-4122-a478-84132af838e8\"}, {\"attributes\": {\"plot\": {\"subtype\": \"Chart\", \"type\": \"Plot\", \"id\": \"875794ef-d5fb-4e65-983d-ed232a78b253\"}, \"dimensions\": [\"width\", \"height\"], \"tags\": [], \"doc\": null, \"id\": \"b4eb580e-2be6-45e0-9f18-0eb7bfcf4244\"}, \"type\": \"PanTool\", \"id\": \"b4eb580e-2be6-45e0-9f18-0eb7bfcf4244\"}, {\"attributes\": {\"plot\": {\"subtype\": \"Chart\", \"type\": \"Plot\", \"id\": \"875794ef-d5fb-4e65-983d-ed232a78b253\"}, \"dimensions\": [\"width\", \"height\"], \"tags\": [], \"doc\": null, \"id\": \"92443417-81b8-4d1e-8cbc-95be15a02d37\"}, \"type\": \"WheelZoomTool\", \"id\": \"92443417-81b8-4d1e-8cbc-95be15a02d37\"}, {\"attributes\": {\"column_names\": [\"width_cat\", \"0\", \"cat\", \"cat0\", \"width\", \"zero\", \"stacked0\", \"mid0\"], \"tags\": [], \"doc\": null, \"selected\": [], \"data\": {\"width_cat\": [0.2, 0.2, 0.2, 0.2, 0.2, 0.2, 0.2, 0.2, 0.2], \"width\": [0.8, 0.8, 0.8, 0.8, 0.8, 0.8, 0.8, 0.8, 0.8], \"cat\": [\"0\", \"1\", \"2\", \"3\", \"4\", \"5\", \"6\", \"7\", \"8\"], \"cat0\": [\"0:0.5\", \"1:0.5\", \"2:0.5\", \"3:0.5\", \"4:0.5\", \"5:0.5\", \"6:0.5\", \"7:0.5\", \"8:0.5\"], \"0\": [413.35, 957.03, 803.3, 18.72, 117.92, 999.85, 14.389999999999999, 561.5699999999999, 17.36], \"zero\": [413.35, 957.03, 803.3, 18.72, 117.92, 999.85, 14.389999999999999, 561.5699999999999, 17.36], \"stacked0\": [206.675, 478.515, 401.65, 9.36, 58.96, 499.925, 7.194999999999999, 280.78499999999997, 8.68], \"mid0\": [206.675, 478.515, 401.65, 9.36, 58.96, 499.925, 7.194999999999999, 280.78499999999997, 8.68]}, \"id\": \"88e58c06-bcdd-449c-9a1e-2a3a21e47d7e\"}, \"type\": \"ColumnDataSource\", \"id\": \"88e58c06-bcdd-449c-9a1e-2a3a21e47d7e\"}, {\"attributes\": {\"doc\": null, \"id\": \"e9c59b9b-8a33-44ed-ba06-24b6be712579\", \"tags\": []}, \"type\": \"CategoricalTickFormatter\", \"id\": \"e9c59b9b-8a33-44ed-ba06-24b6be712579\"}, {\"attributes\": {\"plot\": {\"subtype\": \"Chart\", \"type\": \"Plot\", \"id\": \"875794ef-d5fb-4e65-983d-ed232a78b253\"}, \"tags\": [], \"doc\": null, \"dimension\": 1, \"ticker\": {\"type\": \"BasicTicker\", \"id\": \"02193519-e6f8-428a-b3fe-7bd0febfb503\"}, \"id\": \"50aff711-a75b-4d05-8bbb-7c491fb905cc\"}, \"type\": \"Grid\", \"id\": \"50aff711-a75b-4d05-8bbb-7c491fb905cc\"}, {\"attributes\": {\"plot\": {\"subtype\": \"Chart\", \"type\": \"Plot\", \"id\": \"875794ef-d5fb-4e65-983d-ed232a78b253\"}, \"dimensions\": [\"width\", \"height\"], \"tags\": [], \"doc\": null, \"id\": \"ddadb33c-c915-4bdf-a563-da625bc2b4e4\"}, \"type\": \"BoxZoomTool\", \"id\": \"ddadb33c-c915-4bdf-a563-da625bc2b4e4\"}, {\"attributes\": {\"start\": 0, \"end\": 1099.835, \"tags\": [], \"doc\": null, \"id\": \"b6fcad11-bf35-410f-8c58-cd08cfb63717\"}, \"type\": \"Range1d\", \"id\": \"b6fcad11-bf35-410f-8c58-cd08cfb63717\"}, {\"attributes\": {\"tags\": [], \"doc\": null, \"mantissas\": [2, 5, 10], \"id\": \"02193519-e6f8-428a-b3fe-7bd0febfb503\"}, \"type\": \"BasicTicker\", \"id\": \"02193519-e6f8-428a-b3fe-7bd0febfb503\"}, {\"attributes\": {\"plot\": {\"subtype\": \"Chart\", \"type\": \"Plot\", \"id\": \"875794ef-d5fb-4e65-983d-ed232a78b253\"}, \"tags\": [], \"doc\": null, \"id\": \"7ed9cb0d-6dca-4d48-9ea3-8a0d9fb0edb6\"}, \"type\": \"PreviewSaveTool\", \"id\": \"7ed9cb0d-6dca-4d48-9ea3-8a0d9fb0edb6\"}, {\"attributes\": {\"nonselection_glyph\": null, \"data_source\": {\"type\": \"ColumnDataSource\", \"id\": \"88e58c06-bcdd-449c-9a1e-2a3a21e47d7e\"}, \"tags\": [], \"doc\": null, \"selection_glyph\": null, \"id\": \"f18004c8-91f6-4bf2-be3e-10d33f13d147\", \"glyph\": {\"type\": \"Rect\", \"id\": \"58ed0aa8-3dc3-4b5e-a52f-de83f24e4efa\"}}, \"type\": \"GlyphRenderer\", \"id\": \"f18004c8-91f6-4bf2-be3e-10d33f13d147\"}, {\"attributes\": {\"doc\": null, \"id\": \"a63af72c-b149-4e54-a763-3756a163f3f8\", \"tags\": []}, \"type\": \"CategoricalTicker\", \"id\": \"a63af72c-b149-4e54-a763-3756a163f3f8\"}];\n",
        "            Bokeh.load_models(all_models);\n",
        "            var model = Bokeh.Collections(modeltype).get(modelid);\n",
        "            var view = new model.default_view({model: model, el: '#9ce11d8e-b2be-4e71-b68b-1e53bdae053e'});\n",
        "            Bokeh.index[modelid] = view\n",
        "        });\n",
        "    </script>\n",
        "<div class=\"plotdiv\" id=\"9ce11d8e-b2be-4e71-b68b-1e53bdae053e\"></div>\n",
        "\n"
       ],
       "metadata": {},
       "output_type": "display_data"
      }
     ],
     "prompt_number": 106
    },
    {
     "cell_type": "code",
     "collapsed": false,
     "input": [
      "amounts2 = creditor_sum['amount'].values\n",
      "names = creditor_sum.index.values.tolist()"
     ],
     "language": "python",
     "metadata": {},
     "outputs": [],
     "prompt_number": 96
    },
    {
     "cell_type": "code",
     "collapsed": false,
     "input": [
      "bar3 = Bar(amounts2, names, title = 'bars2', filename = 'onion.html')\n",
      "show(bar3)"
     ],
     "language": "python",
     "metadata": {},
     "outputs": [
      {
       "html": [
        "<script type=\"text/javascript\">\n",
        "        Bokeh.$(function() {\n",
        "            var modelid = \"4aa1b249-df0f-49a0-9acc-c75ff02a7110\";\n",
        "            var modeltype = \"Plot\";\n",
        "            var elementid = \"6d3df886-d679-4007-9165-3bf1096405fb\";\n",
        "            Bokeh.logger.info(\"Realizing plot:\")\n",
        "            Bokeh.logger.info(\" - modeltype: Plot\");\n",
        "            Bokeh.logger.info(\" - modelid: 4aa1b249-df0f-49a0-9acc-c75ff02a7110\");\n",
        "            Bokeh.logger.info(\" - elementid: 6d3df886-d679-4007-9165-3bf1096405fb\");\n",
        "            var all_models = [{\"attributes\": {\"geometries\": [], \"tags\": [], \"doc\": null, \"id\": \"c2dc11da-80a3-4607-86b0-303bb2b5d88d\"}, \"type\": \"ToolEvents\", \"id\": \"c2dc11da-80a3-4607-86b0-303bb2b5d88d\"}, {\"attributes\": {\"plot\": {\"subtype\": \"Chart\", \"type\": \"Plot\", \"id\": \"4aa1b249-df0f-49a0-9acc-c75ff02a7110\"}, \"dimensions\": [\"width\", \"height\"], \"tags\": [], \"doc\": null, \"id\": \"2af69c4f-9798-474d-97aa-75293733e94b\"}, \"type\": \"BoxZoomTool\", \"id\": \"2af69c4f-9798-474d-97aa-75293733e94b\"}, {\"attributes\": {\"plot\": {\"subtype\": \"Chart\", \"type\": \"Plot\", \"id\": \"4aa1b249-df0f-49a0-9acc-c75ff02a7110\"}, \"tags\": [], \"doc\": null, \"id\": \"4c6a3d28-d23b-4a43-8f1c-a0af5b46895e\"}, \"type\": \"PreviewSaveTool\", \"id\": \"4c6a3d28-d23b-4a43-8f1c-a0af5b46895e\"}, {\"attributes\": {\"nonselection_glyph\": null, \"data_source\": {\"type\": \"ColumnDataSource\", \"id\": \"016da0d6-6a34-4b01-a84b-d5dba93364dd\"}, \"tags\": [], \"doc\": null, \"selection_glyph\": null, \"id\": \"82c29e5d-a378-48ee-a590-5b845d25f42c\", \"glyph\": {\"type\": \"Rect\", \"id\": \"cf070a20-7fe9-454b-950d-1419a55427bd\"}}, \"type\": \"GlyphRenderer\", \"id\": \"82c29e5d-a378-48ee-a590-5b845d25f42c\"}, {\"attributes\": {\"doc\": null, \"id\": \"5d25ba70-fdb6-4347-b69b-bc15d79c560d\", \"tags\": []}, \"type\": \"CategoricalTicker\", \"id\": \"5d25ba70-fdb6-4347-b69b-bc15d79c560d\"}, {\"attributes\": {\"doc\": null, \"id\": \"46585a31-0284-4bfb-9ebc-a02218a3afd5\", \"tags\": []}, \"type\": \"BasicTickFormatter\", \"id\": \"46585a31-0284-4bfb-9ebc-a02218a3afd5\"}, {\"attributes\": {\"factors\": [\"Britain\", \"France\", \"Germany\", \"Ireland\", \"Italy\", \"Japan\", \"Portugal\", \"Spain\", \"United States\"], \"doc\": null, \"tags\": [], \"id\": \"e89c40ef-6f2f-4660-b691-3d421c3aa85b\"}, \"type\": \"FactorRange\", \"id\": \"e89c40ef-6f2f-4660-b691-3d421c3aa85b\"}, {\"attributes\": {\"tags\": [], \"doc\": null, \"mantissas\": [2, 5, 10], \"id\": \"2bba0222-b456-4c18-9263-141488c05dc1\"}, \"type\": \"BasicTicker\", \"id\": \"2bba0222-b456-4c18-9263-141488c05dc1\"}, {\"attributes\": {\"plot\": {\"subtype\": \"Chart\", \"type\": \"Plot\", \"id\": \"4aa1b249-df0f-49a0-9acc-c75ff02a7110\"}, \"tags\": [], \"doc\": null, \"id\": \"61e65d3a-71c3-42ad-a0ae-53a82090f28e\"}, \"type\": \"ResetTool\", \"id\": \"61e65d3a-71c3-42ad-a0ae-53a82090f28e\"}, {\"attributes\": {\"plot\": {\"subtype\": \"Chart\", \"type\": \"Plot\", \"id\": \"4aa1b249-df0f-49a0-9acc-c75ff02a7110\"}, \"tags\": [], \"doc\": null, \"major_label_orientation\": 0.7853981633974483, \"axis_label\": \"x-axis\", \"formatter\": {\"type\": \"CategoricalTickFormatter\", \"id\": \"1e15322c-1807-46e8-b106-1958625a5a34\"}, \"ticker\": {\"type\": \"CategoricalTicker\", \"id\": \"5d25ba70-fdb6-4347-b69b-bc15d79c560d\"}, \"id\": \"0f558756-6e9d-4fdc-9b30-c28a55e479ca\"}, \"type\": \"CategoricalAxis\", \"id\": \"0f558756-6e9d-4fdc-9b30-c28a55e479ca\"}, {\"attributes\": {\"plot\": {\"subtype\": \"Chart\", \"type\": \"Plot\", \"id\": \"4aa1b249-df0f-49a0-9acc-c75ff02a7110\"}, \"tags\": [], \"doc\": null, \"dimension\": 1, \"ticker\": {\"type\": \"BasicTicker\", \"id\": \"2bba0222-b456-4c18-9263-141488c05dc1\"}, \"id\": \"a1b19f15-478d-4d25-86b2-bd42d6fc228c\"}, \"type\": \"Grid\", \"id\": \"a1b19f15-478d-4d25-86b2-bd42d6fc228c\"}, {\"attributes\": {\"plot\": {\"subtype\": \"Chart\", \"type\": \"Plot\", \"id\": \"4aa1b249-df0f-49a0-9acc-c75ff02a7110\"}, \"tags\": [], \"doc\": null, \"axis_label\": \"y-axis\", \"formatter\": {\"type\": \"BasicTickFormatter\", \"id\": \"46585a31-0284-4bfb-9ebc-a02218a3afd5\"}, \"ticker\": {\"type\": \"BasicTicker\", \"id\": \"2bba0222-b456-4c18-9263-141488c05dc1\"}, \"id\": \"91560d5f-6794-49e6-94b6-03e07c33bf0a\"}, \"type\": \"LinearAxis\", \"id\": \"91560d5f-6794-49e6-94b6-03e07c33bf0a\"}, {\"attributes\": {\"plot\": {\"subtype\": \"Chart\", \"type\": \"Plot\", \"id\": \"4aa1b249-df0f-49a0-9acc-c75ff02a7110\"}, \"tags\": [], \"doc\": null, \"id\": \"c0659f8b-c956-4b13-a609-1abc2f3444d4\"}, \"type\": \"ResizeTool\", \"id\": \"c0659f8b-c956-4b13-a609-1abc2f3444d4\"}, {\"attributes\": {\"column_names\": [\"width_cat\", \"0\", \"cat\", \"cat0\", \"width\", \"zero\", \"stacked0\", \"mid0\"], \"tags\": [], \"doc\": null, \"selected\": [], \"data\": {\"width_cat\": [0.2, 0.2, 0.2, 0.2, 0.2, 0.2, 0.2, 0.2, 0.2], \"width\": [0.8, 0.8, 0.8, 0.8, 0.8, 0.8, 0.8, 0.8, 0.8], \"cat\": [\"Britain\", \"France\", \"Germany\", \"Ireland\", \"Italy\", \"Japan\", \"Portugal\", \"Spain\", \"United States\"], \"cat0\": [\"Britain:0.5\", \"France:0.5\", \"Germany:0.5\", \"Ireland:0.5\", \"Italy:0.5\", \"Japan:0.5\", \"Portugal:0.5\", \"Spain:0.5\", \"United States:0.5\"], \"0\": [413.35, 957.03, 803.3, 18.72, 117.92, 999.85, 14.389999999999999, 561.5699999999999, 17.36], \"zero\": [413.35, 957.03, 803.3, 18.72, 117.92, 999.85, 14.389999999999999, 561.5699999999999, 17.36], \"stacked0\": [206.675, 478.515, 401.65, 9.36, 58.96, 499.925, 7.194999999999999, 280.78499999999997, 8.68], \"mid0\": [206.675, 478.515, 401.65, 9.36, 58.96, 499.925, 7.194999999999999, 280.78499999999997, 8.68]}, \"id\": \"016da0d6-6a34-4b01-a84b-d5dba93364dd\"}, \"type\": \"ColumnDataSource\", \"id\": \"016da0d6-6a34-4b01-a84b-d5dba93364dd\"}, {\"attributes\": {\"plot\": {\"subtype\": \"Chart\", \"type\": \"Plot\", \"id\": \"4aa1b249-df0f-49a0-9acc-c75ff02a7110\"}, \"dimensions\": [\"width\", \"height\"], \"tags\": [], \"doc\": null, \"id\": \"04dd2ad5-d9dd-4522-aa6d-6acd5c68b4e5\"}, \"type\": \"PanTool\", \"id\": \"04dd2ad5-d9dd-4522-aa6d-6acd5c68b4e5\"}, {\"subtype\": \"Chart\", \"type\": \"Plot\", \"id\": \"4aa1b249-df0f-49a0-9acc-c75ff02a7110\", \"attributes\": {\"x_range\": {\"type\": \"FactorRange\", \"id\": \"e89c40ef-6f2f-4660-b691-3d421c3aa85b\"}, \"right\": [], \"above\": [], \"tags\": [], \"tools\": [{\"type\": \"PanTool\", \"id\": \"04dd2ad5-d9dd-4522-aa6d-6acd5c68b4e5\"}, {\"type\": \"WheelZoomTool\", \"id\": \"c5810fee-12f9-464d-a89b-3396c3fa1ef3\"}, {\"type\": \"BoxZoomTool\", \"id\": \"2af69c4f-9798-474d-97aa-75293733e94b\"}, {\"type\": \"PreviewSaveTool\", \"id\": \"4c6a3d28-d23b-4a43-8f1c-a0af5b46895e\"}, {\"type\": \"ResizeTool\", \"id\": \"c0659f8b-c956-4b13-a609-1abc2f3444d4\"}, {\"type\": \"ResetTool\", \"id\": \"61e65d3a-71c3-42ad-a0ae-53a82090f28e\"}], \"title\": \"bars2\", \"renderers\": [{\"type\": \"CategoricalAxis\", \"id\": \"0f558756-6e9d-4fdc-9b30-c28a55e479ca\"}, {\"type\": \"LinearAxis\", \"id\": \"91560d5f-6794-49e6-94b6-03e07c33bf0a\"}, {\"type\": \"Grid\", \"id\": \"a1b19f15-478d-4d25-86b2-bd42d6fc228c\"}, {\"type\": \"GlyphRenderer\", \"id\": \"82c29e5d-a378-48ee-a590-5b845d25f42c\"}], \"plot_width\": 600, \"extra_y_ranges\": {}, \"extra_x_ranges\": {}, \"tool_events\": {\"type\": \"ToolEvents\", \"id\": \"c2dc11da-80a3-4607-86b0-303bb2b5d88d\"}, \"plot_height\": 400, \"doc\": null, \"id\": \"4aa1b249-df0f-49a0-9acc-c75ff02a7110\", \"y_range\": {\"type\": \"Range1d\", \"id\": \"97902c3a-574a-4646-9380-ebab9e8eff3c\"}, \"below\": [{\"type\": \"CategoricalAxis\", \"id\": \"0f558756-6e9d-4fdc-9b30-c28a55e479ca\"}], \"left\": [{\"type\": \"LinearAxis\", \"id\": \"91560d5f-6794-49e6-94b6-03e07c33bf0a\"}]}}, {\"attributes\": {\"line_color\": {\"value\": \"white\"}, \"fill_color\": {\"value\": \"#f22c40\"}, \"tags\": [], \"doc\": null, \"fill_alpha\": {\"units\": \"data\", \"value\": 0.7}, \"height\": {\"units\": \"data\", \"field\": \"0\"}, \"width\": {\"units\": \"data\", \"field\": \"width_cat\"}, \"y\": {\"units\": \"data\", \"field\": \"mid0\"}, \"x\": {\"units\": \"data\", \"field\": \"cat0\"}, \"id\": \"cf070a20-7fe9-454b-950d-1419a55427bd\"}, \"type\": \"Rect\", \"id\": \"cf070a20-7fe9-454b-950d-1419a55427bd\"}, {\"attributes\": {\"plot\": {\"subtype\": \"Chart\", \"type\": \"Plot\", \"id\": \"4aa1b249-df0f-49a0-9acc-c75ff02a7110\"}, \"dimensions\": [\"width\", \"height\"], \"tags\": [], \"doc\": null, \"id\": \"c5810fee-12f9-464d-a89b-3396c3fa1ef3\"}, \"type\": \"WheelZoomTool\", \"id\": \"c5810fee-12f9-464d-a89b-3396c3fa1ef3\"}, {\"attributes\": {\"start\": 0, \"end\": 1099.835, \"tags\": [], \"doc\": null, \"id\": \"97902c3a-574a-4646-9380-ebab9e8eff3c\"}, \"type\": \"Range1d\", \"id\": \"97902c3a-574a-4646-9380-ebab9e8eff3c\"}, {\"attributes\": {\"doc\": null, \"id\": \"1e15322c-1807-46e8-b106-1958625a5a34\", \"tags\": []}, \"type\": \"CategoricalTickFormatter\", \"id\": \"1e15322c-1807-46e8-b106-1958625a5a34\"}];\n",
        "            Bokeh.load_models(all_models);\n",
        "            var model = Bokeh.Collections(modeltype).get(modelid);\n",
        "            var view = new model.default_view({model: model, el: '#6d3df886-d679-4007-9165-3bf1096405fb'});\n",
        "            Bokeh.index[modelid] = view\n",
        "        });\n",
        "    </script>\n",
        "<div class=\"plotdiv\" id=\"6d3df886-d679-4007-9165-3bf1096405fb\"></div>\n",
        "\n"
       ],
       "metadata": {},
       "output_type": "display_data"
      }
     ],
     "prompt_number": 97
    },
    {
     "cell_type": "code",
     "collapsed": false,
     "input": [
      "# later, we build a dict containing the grouped data\n",
      "medals = OrderedDict(bronze=bronze, silver=silver, gold=gold, gold2 = gold, bronze2 = bronze, silver2 = silver,\n",
      "                     silver3 = silver)\n",
      "\n",
      "# any of the following commented are valid Bar inputs\n",
      "#medals = pd.DataFrame(medals)\n",
      "#medals = list(medals.values())\n",
      "output_file(\"stacked_bar.html\")\n",
      "bar = Bar(medals, countries, title=\"Stacked bars\", filename=\"stacked_bar.html\", stacked=True)\n",
      "show(bar)"
     ],
     "language": "python",
     "metadata": {},
     "outputs": [
      {
       "html": [
        "<script type=\"text/javascript\">\n",
        "        Bokeh.$(function() {\n",
        "            var modelid = \"951f6827-b121-42e8-9598-b772df53ae76\";\n",
        "            var modeltype = \"Plot\";\n",
        "            var elementid = \"e4a5435f-16fe-40a0-9c50-2580e66e5054\";\n",
        "            Bokeh.logger.info(\"Realizing plot:\")\n",
        "            Bokeh.logger.info(\" - modeltype: Plot\");\n",
        "            Bokeh.logger.info(\" - modelid: 951f6827-b121-42e8-9598-b772df53ae76\");\n",
        "            Bokeh.logger.info(\" - elementid: e4a5435f-16fe-40a0-9c50-2580e66e5054\");\n",
        "            var all_models = [{\"attributes\": {\"plot\": {\"subtype\": \"Chart\", \"type\": \"Plot\", \"id\": \"951f6827-b121-42e8-9598-b772df53ae76\"}, \"dimensions\": [\"width\", \"height\"], \"tags\": [], \"doc\": null, \"id\": \"bcc0462c-3976-4258-bcd8-4246418b70ab\"}, \"type\": \"BoxZoomTool\", \"id\": \"bcc0462c-3976-4258-bcd8-4246418b70ab\"}, {\"attributes\": {\"plot\": {\"subtype\": \"Chart\", \"type\": \"Plot\", \"id\": \"951f6827-b121-42e8-9598-b772df53ae76\"}, \"tags\": [], \"doc\": null, \"id\": \"6cbb4bbd-65a2-4496-b370-d14aaa1d9d54\"}, \"type\": \"PreviewSaveTool\", \"id\": \"6cbb4bbd-65a2-4496-b370-d14aaa1d9d54\"}, {\"attributes\": {\"plot\": {\"subtype\": \"Chart\", \"type\": \"Plot\", \"id\": \"951f6827-b121-42e8-9598-b772df53ae76\"}, \"tags\": [], \"doc\": null, \"id\": \"ce00c99b-fdc9-42eb-a91e-d298b3977517\"}, \"type\": \"ResizeTool\", \"id\": \"ce00c99b-fdc9-42eb-a91e-d298b3977517\"}, {\"attributes\": {\"plot\": {\"subtype\": \"Chart\", \"type\": \"Plot\", \"id\": \"951f6827-b121-42e8-9598-b772df53ae76\"}, \"tags\": [], \"doc\": null, \"major_label_orientation\": 0.7853981633974483, \"axis_label\": \"x-axis\", \"formatter\": {\"type\": \"CategoricalTickFormatter\", \"id\": \"0a433b0e-609c-4cce-b2dc-169db47de324\"}, \"ticker\": {\"type\": \"CategoricalTicker\", \"id\": \"9c3973ab-7dce-49cb-9acc-754d250554f1\"}, \"id\": \"34792d0c-09e8-420d-8746-6a74e66a829f\"}, \"type\": \"CategoricalAxis\", \"id\": \"34792d0c-09e8-420d-8746-6a74e66a829f\"}, {\"attributes\": {\"plot\": {\"subtype\": \"Chart\", \"type\": \"Plot\", \"id\": \"951f6827-b121-42e8-9598-b772df53ae76\"}, \"tags\": [], \"doc\": null, \"id\": \"bd317705-5d53-4794-a270-5f24a6414326\"}, \"type\": \"ResetTool\", \"id\": \"bd317705-5d53-4794-a270-5f24a6414326\"}, {\"attributes\": {\"start\": 0, \"end\": 55.000000000000007, \"tags\": [], \"doc\": null, \"id\": \"ac6f11e8-c0b1-41d4-ac92-a50d0f8dc152\"}, \"type\": \"Range1d\", \"id\": \"ac6f11e8-c0b1-41d4-ac92-a50d0f8dc152\"}, {\"attributes\": {\"factors\": [\"RUS\", \"USA\", \"NLD\", \"NOR\", \"CAN\", \"DEU\", \"CHE\", \"FRA\", \"SWE\", \"AUT\", \"SVN\", \"JPN\", \"CHN\", \"CZE\", \"ITA\", \"BLR\", \"POL\", \"KOR\", \"AUS\", \"LVA\", \"FIN\", \"GBR\", \"SVK\", \"HRV\", \"UKR\", \"KAZ\"], \"doc\": null, \"tags\": [], \"id\": \"251e9ac9-634e-44b3-87f3-6fb6ae68598f\"}, \"type\": \"FactorRange\", \"id\": \"251e9ac9-634e-44b3-87f3-6fb6ae68598f\"}, {\"attributes\": {\"nonselection_glyph\": null, \"data_source\": {\"type\": \"ColumnDataSource\", \"id\": \"958feec3-5649-440a-af12-0fe731922c6f\"}, \"tags\": [], \"doc\": null, \"selection_glyph\": null, \"id\": \"79754df9-8c7c-4797-9bf1-e81663a2a188\", \"glyph\": {\"type\": \"Rect\", \"id\": \"51d05278-bd3e-4dc9-8692-ed85e500377e\"}}, \"type\": \"GlyphRenderer\", \"id\": \"79754df9-8c7c-4797-9bf1-e81663a2a188\"}, {\"attributes\": {\"line_color\": {\"value\": \"white\"}, \"fill_color\": {\"value\": \"#f22c40\"}, \"tags\": [], \"doc\": null, \"fill_alpha\": {\"units\": \"data\", \"value\": 0.7}, \"height\": {\"units\": \"data\", \"field\": \"silver2\"}, \"width\": {\"units\": \"data\", \"field\": \"width\"}, \"y\": {\"units\": \"data\", \"field\": \"stackedsilver2\"}, \"x\": {\"units\": \"data\", \"field\": \"cat\"}, \"id\": \"51d05278-bd3e-4dc9-8692-ed85e500377e\"}, \"type\": \"Rect\", \"id\": \"51d05278-bd3e-4dc9-8692-ed85e500377e\"}, {\"attributes\": {\"plot\": {\"subtype\": \"Chart\", \"type\": \"Plot\", \"id\": \"951f6827-b121-42e8-9598-b772df53ae76\"}, \"dimensions\": [\"width\", \"height\"], \"tags\": [], \"doc\": null, \"id\": \"89112298-02d2-48a4-9bc5-56819d374cf7\"}, \"type\": \"WheelZoomTool\", \"id\": \"89112298-02d2-48a4-9bc5-56819d374cf7\"}, {\"attributes\": {\"line_color\": {\"value\": \"white\"}, \"fill_color\": {\"value\": \"#5ab738\"}, \"tags\": [], \"doc\": null, \"fill_alpha\": {\"units\": \"data\", \"value\": 0.7}, \"height\": {\"units\": \"data\", \"field\": \"silver3\"}, \"width\": {\"units\": \"data\", \"field\": \"width\"}, \"y\": {\"units\": \"data\", \"field\": \"stackedsilver3\"}, \"x\": {\"units\": \"data\", \"field\": \"cat\"}, \"id\": \"21cbc9f0-eefb-4cbf-8a95-d3f30b86a8ca\"}, \"type\": \"Rect\", \"id\": \"21cbc9f0-eefb-4cbf-8a95-d3f30b86a8ca\"}, {\"attributes\": {\"nonselection_glyph\": null, \"data_source\": {\"type\": \"ColumnDataSource\", \"id\": \"958feec3-5649-440a-af12-0fe731922c6f\"}, \"tags\": [], \"doc\": null, \"selection_glyph\": null, \"id\": \"15fa7dfe-8925-4060-b857-be475040e400\", \"glyph\": {\"type\": \"Rect\", \"id\": \"21cbc9f0-eefb-4cbf-8a95-d3f30b86a8ca\"}}, \"type\": \"GlyphRenderer\", \"id\": \"15fa7dfe-8925-4060-b857-be475040e400\"}, {\"attributes\": {\"line_color\": {\"value\": \"white\"}, \"fill_color\": {\"value\": \"#407ee7\"}, \"tags\": [], \"doc\": null, \"fill_alpha\": {\"units\": \"data\", \"value\": 0.7}, \"height\": {\"units\": \"data\", \"field\": \"gold\"}, \"width\": {\"units\": \"data\", \"field\": \"width\"}, \"y\": {\"units\": \"data\", \"field\": \"stackedgold\"}, \"x\": {\"units\": \"data\", \"field\": \"cat\"}, \"id\": \"c6c67ae3-83c0-429a-b524-4362ea80d404\"}, \"type\": \"Rect\", \"id\": \"c6c67ae3-83c0-429a-b524-4362ea80d404\"}, {\"attributes\": {\"nonselection_glyph\": null, \"data_source\": {\"type\": \"ColumnDataSource\", \"id\": \"958feec3-5649-440a-af12-0fe731922c6f\"}, \"tags\": [], \"doc\": null, \"selection_glyph\": null, \"id\": \"0b4df816-d521-40dd-bf9c-6d09e1cd9f9f\", \"glyph\": {\"type\": \"Rect\", \"id\": \"c6c67ae3-83c0-429a-b524-4362ea80d404\"}}, \"type\": \"GlyphRenderer\", \"id\": \"0b4df816-d521-40dd-bf9c-6d09e1cd9f9f\"}, {\"attributes\": {\"line_color\": {\"value\": \"white\"}, \"fill_color\": {\"value\": \"#df5320\"}, \"tags\": [], \"doc\": null, \"fill_alpha\": {\"units\": \"data\", \"value\": 0.7}, \"height\": {\"units\": \"data\", \"field\": \"bronze2\"}, \"width\": {\"units\": \"data\", \"field\": \"width\"}, \"y\": {\"units\": \"data\", \"field\": \"stackedbronze2\"}, \"x\": {\"units\": \"data\", \"field\": \"cat\"}, \"id\": \"36d5e6cb-4b35-423e-b74e-476661a93546\"}, \"type\": \"Rect\", \"id\": \"36d5e6cb-4b35-423e-b74e-476661a93546\"}, {\"attributes\": {\"nonselection_glyph\": null, \"data_source\": {\"type\": \"ColumnDataSource\", \"id\": \"958feec3-5649-440a-af12-0fe731922c6f\"}, \"tags\": [], \"doc\": null, \"selection_glyph\": null, \"id\": \"be441a6e-974c-4b5d-871c-31d3e9f35811\", \"glyph\": {\"type\": \"Rect\", \"id\": \"36d5e6cb-4b35-423e-b74e-476661a93546\"}}, \"type\": \"GlyphRenderer\", \"id\": \"be441a6e-974c-4b5d-871c-31d3e9f35811\"}, {\"attributes\": {\"line_color\": {\"value\": \"white\"}, \"fill_color\": {\"value\": \"#00ad9c\"}, \"tags\": [], \"doc\": null, \"fill_alpha\": {\"units\": \"data\", \"value\": 0.7}, \"height\": {\"units\": \"data\", \"field\": \"gold2\"}, \"width\": {\"units\": \"data\", \"field\": \"width\"}, \"y\": {\"units\": \"data\", \"field\": \"stackedgold2\"}, \"x\": {\"units\": \"data\", \"field\": \"cat\"}, \"id\": \"6af8f726-1b13-44af-9041-eb42675ed181\"}, \"type\": \"Rect\", \"id\": \"6af8f726-1b13-44af-9041-eb42675ed181\"}, {\"attributes\": {\"nonselection_glyph\": null, \"data_source\": {\"type\": \"ColumnDataSource\", \"id\": \"958feec3-5649-440a-af12-0fe731922c6f\"}, \"tags\": [], \"doc\": null, \"selection_glyph\": null, \"id\": \"fa0d179a-6f19-469f-aa78-dd73974527f1\", \"glyph\": {\"type\": \"Rect\", \"id\": \"6af8f726-1b13-44af-9041-eb42675ed181\"}}, \"type\": \"GlyphRenderer\", \"id\": \"fa0d179a-6f19-469f-aa78-dd73974527f1\"}, {\"attributes\": {\"line_color\": {\"value\": \"white\"}, \"fill_color\": {\"value\": \"#c33ff3\"}, \"tags\": [], \"doc\": null, \"fill_alpha\": {\"units\": \"data\", \"value\": 0.7}, \"height\": {\"units\": \"data\", \"field\": \"silver\"}, \"width\": {\"units\": \"data\", \"field\": \"width\"}, \"y\": {\"units\": \"data\", \"field\": \"stackedsilver\"}, \"x\": {\"units\": \"data\", \"field\": \"cat\"}, \"id\": \"0efc9583-f2c9-445c-a970-86b66188ba0b\"}, \"type\": \"Rect\", \"id\": \"0efc9583-f2c9-445c-a970-86b66188ba0b\"}, {\"attributes\": {\"nonselection_glyph\": null, \"data_source\": {\"type\": \"ColumnDataSource\", \"id\": \"958feec3-5649-440a-af12-0fe731922c6f\"}, \"tags\": [], \"doc\": null, \"selection_glyph\": null, \"id\": \"c3b85634-4906-4c52-849c-129d7d1c6176\", \"glyph\": {\"type\": \"Rect\", \"id\": \"0efc9583-f2c9-445c-a970-86b66188ba0b\"}}, \"type\": \"GlyphRenderer\", \"id\": \"c3b85634-4906-4c52-849c-129d7d1c6176\"}, {\"attributes\": {\"geometries\": [], \"tags\": [], \"doc\": null, \"id\": \"f3b31c64-975a-4742-93fd-a3d6ba2ed541\"}, \"type\": \"ToolEvents\", \"id\": \"f3b31c64-975a-4742-93fd-a3d6ba2ed541\"}, {\"attributes\": {\"line_color\": {\"value\": \"white\"}, \"fill_color\": {\"value\": \"#f22c40\"}, \"tags\": [], \"doc\": null, \"fill_alpha\": {\"units\": \"data\", \"value\": 0.7}, \"height\": {\"units\": \"data\", \"field\": \"bronze\"}, \"width\": {\"units\": \"data\", \"field\": \"width\"}, \"y\": {\"units\": \"data\", \"field\": \"stackedbronze\"}, \"x\": {\"units\": \"data\", \"field\": \"cat\"}, \"id\": \"24caad68-569a-480c-ae4f-899ec5e304d7\"}, \"type\": \"Rect\", \"id\": \"24caad68-569a-480c-ae4f-899ec5e304d7\"}, {\"attributes\": {\"nonselection_glyph\": null, \"data_source\": {\"type\": \"ColumnDataSource\", \"id\": \"958feec3-5649-440a-af12-0fe731922c6f\"}, \"tags\": [], \"doc\": null, \"selection_glyph\": null, \"id\": \"4185b72e-f03b-4919-b4b4-e4a9b9d33af3\", \"glyph\": {\"type\": \"Rect\", \"id\": \"24caad68-569a-480c-ae4f-899ec5e304d7\"}}, \"type\": \"GlyphRenderer\", \"id\": \"4185b72e-f03b-4919-b4b4-e4a9b9d33af3\"}, {\"attributes\": {\"doc\": null, \"id\": \"0a433b0e-609c-4cce-b2dc-169db47de324\", \"tags\": []}, \"type\": \"CategoricalTickFormatter\", \"id\": \"0a433b0e-609c-4cce-b2dc-169db47de324\"}, {\"attributes\": {\"plot\": {\"subtype\": \"Chart\", \"type\": \"Plot\", \"id\": \"951f6827-b121-42e8-9598-b772df53ae76\"}, \"tags\": [], \"doc\": null, \"axis_label\": \"y-axis\", \"formatter\": {\"type\": \"BasicTickFormatter\", \"id\": \"64565753-8f65-49c7-8e08-687f8031f821\"}, \"ticker\": {\"type\": \"BasicTicker\", \"id\": \"47f2ff66-506d-4ff4-93fd-1fedaec76ca5\"}, \"id\": \"b3c96b7b-5fad-49c9-ac03-739f78c3057f\"}, \"type\": \"LinearAxis\", \"id\": \"b3c96b7b-5fad-49c9-ac03-739f78c3057f\"}, {\"attributes\": {\"doc\": null, \"id\": \"9c3973ab-7dce-49cb-9acc-754d250554f1\", \"tags\": []}, \"type\": \"CategoricalTicker\", \"id\": \"9c3973ab-7dce-49cb-9acc-754d250554f1\"}, {\"attributes\": {\"tags\": [], \"doc\": null, \"mantissas\": [2, 5, 10], \"id\": \"47f2ff66-506d-4ff4-93fd-1fedaec76ca5\"}, \"type\": \"BasicTicker\", \"id\": \"47f2ff66-506d-4ff4-93fd-1fedaec76ca5\"}, {\"subtype\": \"Chart\", \"type\": \"Plot\", \"id\": \"951f6827-b121-42e8-9598-b772df53ae76\", \"attributes\": {\"x_range\": {\"type\": \"FactorRange\", \"id\": \"251e9ac9-634e-44b3-87f3-6fb6ae68598f\"}, \"right\": [], \"above\": [], \"tags\": [], \"tools\": [{\"type\": \"PanTool\", \"id\": \"b370cb67-c643-4874-9494-c3c4f9779ef9\"}, {\"type\": \"WheelZoomTool\", \"id\": \"89112298-02d2-48a4-9bc5-56819d374cf7\"}, {\"type\": \"BoxZoomTool\", \"id\": \"bcc0462c-3976-4258-bcd8-4246418b70ab\"}, {\"type\": \"PreviewSaveTool\", \"id\": \"6cbb4bbd-65a2-4496-b370-d14aaa1d9d54\"}, {\"type\": \"ResizeTool\", \"id\": \"ce00c99b-fdc9-42eb-a91e-d298b3977517\"}, {\"type\": \"ResetTool\", \"id\": \"bd317705-5d53-4794-a270-5f24a6414326\"}], \"title\": \"Stacked bars\", \"renderers\": [{\"type\": \"CategoricalAxis\", \"id\": \"34792d0c-09e8-420d-8746-6a74e66a829f\"}, {\"type\": \"LinearAxis\", \"id\": \"b3c96b7b-5fad-49c9-ac03-739f78c3057f\"}, {\"type\": \"Grid\", \"id\": \"cd92065e-f4b1-4ca8-8fe0-647972f1631d\"}, {\"type\": \"GlyphRenderer\", \"id\": \"79754df9-8c7c-4797-9bf1-e81663a2a188\"}, {\"type\": \"GlyphRenderer\", \"id\": \"15fa7dfe-8925-4060-b857-be475040e400\"}, {\"type\": \"GlyphRenderer\", \"id\": \"0b4df816-d521-40dd-bf9c-6d09e1cd9f9f\"}, {\"type\": \"GlyphRenderer\", \"id\": \"be441a6e-974c-4b5d-871c-31d3e9f35811\"}, {\"type\": \"GlyphRenderer\", \"id\": \"fa0d179a-6f19-469f-aa78-dd73974527f1\"}, {\"type\": \"GlyphRenderer\", \"id\": \"c3b85634-4906-4c52-849c-129d7d1c6176\"}, {\"type\": \"GlyphRenderer\", \"id\": \"4185b72e-f03b-4919-b4b4-e4a9b9d33af3\"}], \"plot_width\": 600, \"extra_y_ranges\": {}, \"extra_x_ranges\": {}, \"tool_events\": {\"type\": \"ToolEvents\", \"id\": \"f3b31c64-975a-4742-93fd-a3d6ba2ed541\"}, \"plot_height\": 400, \"doc\": null, \"id\": \"951f6827-b121-42e8-9598-b772df53ae76\", \"y_range\": {\"type\": \"Range1d\", \"id\": \"ac6f11e8-c0b1-41d4-ac92-a50d0f8dc152\"}, \"below\": [{\"type\": \"CategoricalAxis\", \"id\": \"34792d0c-09e8-420d-8746-6a74e66a829f\"}], \"left\": [{\"type\": \"LinearAxis\", \"id\": \"b3c96b7b-5fad-49c9-ac03-739f78c3057f\"}]}}, {\"attributes\": {\"doc\": null, \"id\": \"64565753-8f65-49c7-8e08-687f8031f821\", \"tags\": []}, \"type\": \"BasicTickFormatter\", \"id\": \"64565753-8f65-49c7-8e08-687f8031f821\"}, {\"attributes\": {\"column_names\": [\"catsilver3\", \"catsilver2\", \"gold\", \"midbronze\", \"zero\", \"catbronze\", \"stackedgold2\", \"midgold\", \"width_cat\", \"stackedbronze2\", \"stackedgold\", \"width\", \"gold2\", \"midsilver3\", \"midsilver2\", \"bronze2\", \"midbronze2\", \"catgold2\", \"stackedsilver\", \"midsilver\", \"catgold\", \"silver\", \"bronze\", \"silver2\", \"silver3\", \"catbronze2\", \"stackedbronze\", \"cat\", \"stackedsilver2\", \"stackedsilver3\", \"midgold2\", \"catsilver\"], \"tags\": [], \"doc\": null, \"selected\": [], \"data\": {\"catsilver3\": [\"RUS:0.25\", \"USA:0.25\", \"NLD:0.25\", \"NOR:0.25\", \"CAN:0.25\", \"DEU:0.25\", \"CHE:0.25\", \"FRA:0.25\", \"SWE:0.25\", \"AUT:0.25\", \"SVN:0.25\", \"JPN:0.25\", \"CHN:0.25\", \"CZE:0.25\", \"ITA:0.25\", \"BLR:0.25\", \"POL:0.25\", \"KOR:0.25\", \"AUS:0.25\", \"LVA:0.25\", \"FIN:0.25\", \"GBR:0.25\", \"SVK:0.25\", \"HRV:0.25\", \"UKR:0.25\", \"KAZ:0.25\"], \"catsilver2\": [\"RUS:0.125\", \"USA:0.125\", \"NLD:0.125\", \"NOR:0.125\", \"CAN:0.125\", \"DEU:0.125\", \"CHE:0.125\", \"FRA:0.125\", \"SWE:0.125\", \"AUT:0.125\", \"SVN:0.125\", \"JPN:0.125\", \"CHN:0.125\", \"CZE:0.125\", \"ITA:0.125\", \"BLR:0.125\", \"POL:0.125\", \"KOR:0.125\", \"AUS:0.125\", \"LVA:0.125\", \"FIN:0.125\", \"GBR:0.125\", \"SVK:0.125\", \"HRV:0.125\", \"UKR:0.125\", \"KAZ:0.125\"], \"gold\": [6.0, 6.0, 6.0, 8.0, 4.0, 8.0, 6.0, 3.0, 2.0, 2.0, 2.0, 1.0, 3.0, 1.0, 0.0, 5.0, 4.0, 2.0, 0.0, 0.0, 0.0, 1.0, 1.0, 0.0, 0.0, 0.0], \"midbronze\": [3.5, 5.0, 4.0, 3.5, 2.0, 2.0, 0.5, 2.5, 1.0, 0.5, 2.0, 1.0, 0.5, 1.0, 2.0, 0.5, 0.0, 0.5, 0.5, 1.0, 0.0, 0.5, 0.0, 0.0, 0.5, 0.5], \"zero\": [50.0, 44.0, 46.0, 42.0, 40.0, 33.0, 23.0, 22.0, 23.0, 24.0, 15.0, 18.0, 14.0, 15.0, 14.0, 12.0, 8.0, 9.0, 8.0, 7.0, 9.0, 4.0, 2.0, 3.0, 2.0, 2.0], \"catbronze\": [\"RUS:0.875\", \"USA:0.875\", \"NLD:0.875\", \"NOR:0.875\", \"CAN:0.875\", \"DEU:0.875\", \"CHE:0.875\", \"FRA:0.875\", \"SWE:0.875\", \"AUT:0.875\", \"SVN:0.875\", \"JPN:0.875\", \"CHN:0.875\", \"CZE:0.875\", \"ITA:0.875\", \"BLR:0.875\", \"POL:0.875\", \"KOR:0.875\", \"AUS:0.875\", \"LVA:0.875\", \"FIN:0.875\", \"GBR:0.875\", \"SVK:0.875\", \"HRV:0.875\", \"UKR:0.875\", \"KAZ:0.875\"], \"stackedgold2\": [32.0, 27.0, 29.0, 27.0, 26.0, 22.0, 16.0, 13.5, 15.0, 16.0, 9.0, 11.5, 9.5, 9.5, 8.0, 8.5, 6.0, 6.0, 5.0, 4.0, 6.0, 2.5, 1.5, 2.0, 1.0, 1.0], \"midgold\": [3.0, 3.0, 3.0, 4.0, 2.0, 4.0, 3.0, 1.5, 1.0, 1.0, 1.0, 0.5, 1.5, 0.5, 0.0, 2.5, 2.0, 1.0, 0.0, 0.0, 0.0, 0.5, 0.5, 0.0, 0.0, 0.0], \"width_cat\": [0.11759589342757772, 0.11759589342757772, 0.11759589342757772, 0.11759589342757772, 0.11759589342757772, 0.11759589342757772, 0.11759589342757772, 0.11759589342757772, 0.11759589342757772, 0.11759589342757772, 0.11759589342757772, 0.11759589342757772, 0.11759589342757772, 0.11759589342757772, 0.11759589342757772, 0.11759589342757772, 0.11759589342757772, 0.11759589342757772, 0.11759589342757772, 0.11759589342757772, 0.11759589342757772, 0.11759589342757772, 0.11759589342757772, 0.11759589342757772, 0.11759589342757772, 0.11759589342757772], \"stackedbronze2\": [25.5, 19.0, 22.0, 19.5, 22.0, 16.0, 12.5, 9.5, 13.0, 14.5, 6.0, 10.0, 7.5, 8.0, 6.0, 5.5, 4.0, 4.5, 4.5, 3.0, 6.0, 1.5, 1.0, 2.0, 0.5, 0.5], \"stackedgold\": [19.0, 11.0, 15.0, 12.0, 18.0, 10.0, 9.0, 5.5, 11.0, 13.0, 3.0, 8.5, 5.5, 6.5, 4.0, 2.5, 2.0, 3.0, 4.0, 2.0, 6.0, 0.5, 0.5, 2.0, 0.0, 0.0], \"width\": [0.8, 0.8, 0.8, 0.8, 0.8, 0.8, 0.8, 0.8, 0.8, 0.8, 0.8, 0.8, 0.8, 0.8, 0.8, 0.8, 0.8, 0.8, 0.8, 0.8, 0.8, 0.8, 0.8, 0.8, 0.8, 0.8], \"gold2\": [6.0, 6.0, 6.0, 8.0, 4.0, 8.0, 6.0, 3.0, 2.0, 2.0, 2.0, 1.0, 3.0, 1.0, 0.0, 5.0, 4.0, 2.0, 0.0, 0.0, 0.0, 1.0, 1.0, 0.0, 0.0, 0.0], \"midsilver3\": [4.0, 2.0, 3.0, 2.0, 4.0, 1.5, 1.5, 1.0, 2.5, 3.0, 0.5, 2.0, 1.0, 1.5, 1.0, 0.0, 0.0, 0.5, 1.0, 0.5, 1.5, 0.0, 0.0, 0.5, 0.0, 0.0], \"midsilver2\": [4.0, 2.0, 3.0, 2.0, 4.0, 1.5, 1.5, 1.0, 2.5, 3.0, 0.5, 2.0, 1.0, 1.5, 1.0, 0.0, 0.0, 0.5, 1.0, 0.5, 1.5, 0.0, 0.0, 0.5, 0.0, 0.0], \"bronze2\": [7.0, 10.0, 8.0, 7.0, 4.0, 4.0, 1.0, 5.0, 2.0, 1.0, 4.0, 2.0, 1.0, 2.0, 4.0, 1.0, 0.0, 1.0, 1.0, 2.0, 0.0, 1.0, 0.0, 0.0, 1.0, 1.0], \"midbronze2\": [3.5, 5.0, 4.0, 3.5, 2.0, 2.0, 0.5, 2.5, 1.0, 0.5, 2.0, 1.0, 0.5, 1.0, 2.0, 0.5, 0.0, 0.5, 0.5, 1.0, 0.0, 0.5, 0.0, 0.0, 0.5, 0.5], \"catgold2\": [\"RUS:0.625\", \"USA:0.625\", \"NLD:0.625\", \"NOR:0.625\", \"CAN:0.625\", \"DEU:0.625\", \"CHE:0.625\", \"FRA:0.625\", \"SWE:0.625\", \"AUT:0.625\", \"SVN:0.625\", \"JPN:0.625\", \"CHN:0.625\", \"CZE:0.625\", \"ITA:0.625\", \"BLR:0.625\", \"POL:0.625\", \"KOR:0.625\", \"AUS:0.625\", \"LVA:0.625\", \"FIN:0.625\", \"GBR:0.625\", \"SVK:0.625\", \"HRV:0.625\", \"UKR:0.625\", \"KAZ:0.625\"], \"stackedsilver\": [39.0, 32.0, 35.0, 33.0, 32.0, 27.5, 20.5, 16.0, 18.5, 20.0, 10.5, 14.0, 12.0, 11.5, 9.0, 11.0, 8.0, 7.5, 6.0, 4.5, 7.5, 3.0, 2.0, 2.5, 1.0, 1.0], \"midsilver\": [4.0, 2.0, 3.0, 2.0, 4.0, 1.5, 1.5, 1.0, 2.5, 3.0, 0.5, 2.0, 1.0, 1.5, 1.0, 0.0, 0.0, 0.5, 1.0, 0.5, 1.5, 0.0, 0.0, 0.5, 0.0, 0.0], \"catgold\": [\"RUS:0.375\", \"USA:0.375\", \"NLD:0.375\", \"NOR:0.375\", \"CAN:0.375\", \"DEU:0.375\", \"CHE:0.375\", \"FRA:0.375\", \"SWE:0.375\", \"AUT:0.375\", \"SVN:0.375\", \"JPN:0.375\", \"CHN:0.375\", \"CZE:0.375\", \"ITA:0.375\", \"BLR:0.375\", \"POL:0.375\", \"KOR:0.375\", \"AUS:0.375\", \"LVA:0.375\", \"FIN:0.375\", \"GBR:0.375\", \"SVK:0.375\", \"HRV:0.375\", \"UKR:0.375\", \"KAZ:0.375\"], \"silver\": [8.0, 4.0, 6.0, 4.0, 8.0, 3.0, 3.0, 2.0, 5.0, 6.0, 1.0, 4.0, 2.0, 3.0, 2.0, 0.0, 0.0, 1.0, 2.0, 1.0, 3.0, 0.0, 0.0, 1.0, 0.0, 0.0], \"bronze\": [7.0, 10.0, 8.0, 7.0, 4.0, 4.0, 1.0, 5.0, 2.0, 1.0, 4.0, 2.0, 1.0, 2.0, 4.0, 1.0, 0.0, 1.0, 1.0, 2.0, 0.0, 1.0, 0.0, 0.0, 1.0, 1.0], \"silver2\": [8.0, 4.0, 6.0, 4.0, 8.0, 3.0, 3.0, 2.0, 5.0, 6.0, 1.0, 4.0, 2.0, 3.0, 2.0, 0.0, 0.0, 1.0, 2.0, 1.0, 3.0, 0.0, 0.0, 1.0, 0.0, 0.0], \"silver3\": [8.0, 4.0, 6.0, 4.0, 8.0, 3.0, 3.0, 2.0, 5.0, 6.0, 1.0, 4.0, 2.0, 3.0, 2.0, 0.0, 0.0, 1.0, 2.0, 1.0, 3.0, 0.0, 0.0, 1.0, 0.0, 0.0], \"catbronze2\": [\"RUS:0.5\", \"USA:0.5\", \"NLD:0.5\", \"NOR:0.5\", \"CAN:0.5\", \"DEU:0.5\", \"CHE:0.5\", \"FRA:0.5\", \"SWE:0.5\", \"AUT:0.5\", \"SVN:0.5\", \"JPN:0.5\", \"CHN:0.5\", \"CZE:0.5\", \"ITA:0.5\", \"BLR:0.5\", \"POL:0.5\", \"KOR:0.5\", \"AUS:0.5\", \"LVA:0.5\", \"FIN:0.5\", \"GBR:0.5\", \"SVK:0.5\", \"HRV:0.5\", \"UKR:0.5\", \"KAZ:0.5\"], \"stackedbronze\": [46.5, 39.0, 42.0, 38.5, 38.0, 31.0, 22.5, 19.5, 22.0, 23.5, 13.0, 17.0, 13.5, 14.0, 12.0, 11.5, 8.0, 8.5, 7.5, 6.0, 9.0, 3.5, 2.0, 3.0, 1.5, 1.5], \"cat\": [\"RUS\", \"USA\", \"NLD\", \"NOR\", \"CAN\", \"DEU\", \"CHE\", \"FRA\", \"SWE\", \"AUT\", \"SVN\", \"JPN\", \"CHN\", \"CZE\", \"ITA\", \"BLR\", \"POL\", \"KOR\", \"AUS\", \"LVA\", \"FIN\", \"GBR\", \"SVK\", \"HRV\", \"UKR\", \"KAZ\"], \"stackedsilver2\": [4.0, 2.0, 3.0, 2.0, 4.0, 1.5, 1.5, 1.0, 2.5, 3.0, 0.5, 2.0, 1.0, 1.5, 1.0, 0.0, 0.0, 0.5, 1.0, 0.5, 1.5, 0.0, 0.0, 0.5, 0.0, 0.0], \"stackedsilver3\": [12.0, 6.0, 9.0, 6.0, 12.0, 4.5, 4.5, 3.0, 7.5, 9.0, 1.5, 6.0, 3.0, 4.5, 3.0, 0.0, 0.0, 1.5, 3.0, 1.5, 4.5, 0.0, 0.0, 1.5, 0.0, 0.0], \"midgold2\": [3.0, 3.0, 3.0, 4.0, 2.0, 4.0, 3.0, 1.5, 1.0, 1.0, 1.0, 0.5, 1.5, 0.5, 0.0, 2.5, 2.0, 1.0, 0.0, 0.0, 0.0, 0.5, 0.5, 0.0, 0.0, 0.0], \"catsilver\": [\"RUS:0.75\", \"USA:0.75\", \"NLD:0.75\", \"NOR:0.75\", \"CAN:0.75\", \"DEU:0.75\", \"CHE:0.75\", \"FRA:0.75\", \"SWE:0.75\", \"AUT:0.75\", \"SVN:0.75\", \"JPN:0.75\", \"CHN:0.75\", \"CZE:0.75\", \"ITA:0.75\", \"BLR:0.75\", \"POL:0.75\", \"KOR:0.75\", \"AUS:0.75\", \"LVA:0.75\", \"FIN:0.75\", \"GBR:0.75\", \"SVK:0.75\", \"HRV:0.75\", \"UKR:0.75\", \"KAZ:0.75\"]}, \"id\": \"958feec3-5649-440a-af12-0fe731922c6f\"}, \"type\": \"ColumnDataSource\", \"id\": \"958feec3-5649-440a-af12-0fe731922c6f\"}, {\"attributes\": {\"plot\": {\"subtype\": \"Chart\", \"type\": \"Plot\", \"id\": \"951f6827-b121-42e8-9598-b772df53ae76\"}, \"tags\": [], \"doc\": null, \"dimension\": 1, \"ticker\": {\"type\": \"BasicTicker\", \"id\": \"47f2ff66-506d-4ff4-93fd-1fedaec76ca5\"}, \"id\": \"cd92065e-f4b1-4ca8-8fe0-647972f1631d\"}, \"type\": \"Grid\", \"id\": \"cd92065e-f4b1-4ca8-8fe0-647972f1631d\"}, {\"attributes\": {\"plot\": {\"subtype\": \"Chart\", \"type\": \"Plot\", \"id\": \"951f6827-b121-42e8-9598-b772df53ae76\"}, \"dimensions\": [\"width\", \"height\"], \"tags\": [], \"doc\": null, \"id\": \"b370cb67-c643-4874-9494-c3c4f9779ef9\"}, \"type\": \"PanTool\", \"id\": \"b370cb67-c643-4874-9494-c3c4f9779ef9\"}];\n",
        "            Bokeh.load_models(all_models);\n",
        "            var model = Bokeh.Collections(modeltype).get(modelid);\n",
        "            var view = new model.default_view({model: model, el: '#e4a5435f-16fe-40a0-9c50-2580e66e5054'});\n",
        "            Bokeh.index[modelid] = view\n",
        "        });\n",
        "    </script>\n",
        "<div class=\"plotdiv\" id=\"e4a5435f-16fe-40a0-9c50-2580e66e5054\"></div>\n",
        "\n"
       ],
       "metadata": {},
       "output_type": "display_data"
      }
     ],
     "prompt_number": 98
    },
    {
     "cell_type": "code",
     "collapsed": false,
     "input": [
      "prt = df2[df2['debtor'].isin(['Portugal'])]\n",
      "prt['amount'].values"
     ],
     "language": "python",
     "metadata": {},
     "outputs": [
      {
       "metadata": {},
       "output_type": "pyout",
       "prompt_number": 99,
       "text": [
        "array([ 19.4 ,  18.3 ,  32.5 ,   0.87,   2.18,  62.  ])"
       ]
      }
     ],
     "prompt_number": 99
    },
    {
     "cell_type": "code",
     "collapsed": false,
     "input": [
      "usa = df2[df2['debtor'].isin(['United States'])]\n",
      "usa"
     ],
     "language": "python",
     "metadata": {},
     "outputs": [
      {
       "html": [
        "<div style=\"max-height:1000px;max-width:1500px;overflow:auto;\">\n",
        "<table border=\"1\" class=\"dataframe\">\n",
        "  <thead>\n",
        "    <tr style=\"text-align: right;\">\n",
        "      <th></th>\n",
        "      <th>creditor</th>\n",
        "      <th>debtor</th>\n",
        "      <th>amount</th>\n",
        "      <th>risk</th>\n",
        "    </tr>\n",
        "  </thead>\n",
        "  <tbody>\n",
        "    <tr>\n",
        "      <th>4 </th>\n",
        "      <td>  Britain</td>\n",
        "      <td> United States</td>\n",
        "      <td> 345.00</td>\n",
        "      <td> 1</td>\n",
        "    </tr>\n",
        "    <tr>\n",
        "      <th>12</th>\n",
        "      <td>   France</td>\n",
        "      <td> United States</td>\n",
        "      <td> 322.00</td>\n",
        "      <td> 1</td>\n",
        "    </tr>\n",
        "    <tr>\n",
        "      <th>18</th>\n",
        "      <td>  Germany</td>\n",
        "      <td> United States</td>\n",
        "      <td> 324.00</td>\n",
        "      <td> 1</td>\n",
        "    </tr>\n",
        "    <tr>\n",
        "      <th>33</th>\n",
        "      <td>    Japan</td>\n",
        "      <td> United States</td>\n",
        "      <td> 796.00</td>\n",
        "      <td> 1</td>\n",
        "    </tr>\n",
        "    <tr>\n",
        "      <th>36</th>\n",
        "      <td> Portugal</td>\n",
        "      <td> United States</td>\n",
        "      <td>   0.52</td>\n",
        "      <td> 1</td>\n",
        "    </tr>\n",
        "    <tr>\n",
        "      <th>41</th>\n",
        "      <td>    Spain</td>\n",
        "      <td> United States</td>\n",
        "      <td> 163.00</td>\n",
        "      <td> 1</td>\n",
        "    </tr>\n",
        "  </tbody>\n",
        "</table>\n",
        "</div>"
       ],
       "metadata": {},
       "output_type": "pyout",
       "prompt_number": 107,
       "text": [
        "    creditor         debtor  amount  risk\n",
        "4    Britain  United States  345.00     1\n",
        "12    France  United States  322.00     1\n",
        "18   Germany  United States  324.00     1\n",
        "33     Japan  United States  796.00     1\n",
        "36  Portugal  United States    0.52     1\n",
        "41     Spain  United States  163.00     1"
       ]
      }
     ],
     "prompt_number": 107
    },
    {
     "cell_type": "code",
     "collapsed": false,
     "input": [
      "import numpy as np\n",
      "import copy\n",
      "cs2 = copy.deepcopy(creditor_sum)\n",
      "cs2.loc[:,'United States'] = np.array([5] * len(creditor_sum))\n",
      "cs2\n"
     ],
     "language": "python",
     "metadata": {},
     "outputs": [
      {
       "html": [
        "<div style=\"max-height:1000px;max-width:1500px;overflow:auto;\">\n",
        "<table border=\"1\" class=\"dataframe\">\n",
        "  <thead>\n",
        "    <tr style=\"text-align: right;\">\n",
        "      <th></th>\n",
        "      <th>amount</th>\n",
        "      <th>risk</th>\n",
        "      <th>United States</th>\n",
        "    </tr>\n",
        "    <tr>\n",
        "      <th>creditor</th>\n",
        "      <th></th>\n",
        "      <th></th>\n",
        "      <th></th>\n",
        "    </tr>\n",
        "  </thead>\n",
        "  <tbody>\n",
        "    <tr>\n",
        "      <th>Britain</th>\n",
        "      <td> 413.35</td>\n",
        "      <td> 4</td>\n",
        "      <td> 5</td>\n",
        "    </tr>\n",
        "    <tr>\n",
        "      <th>France</th>\n",
        "      <td> 957.03</td>\n",
        "      <td> 5</td>\n",
        "      <td> 5</td>\n",
        "    </tr>\n",
        "    <tr>\n",
        "      <th>Germany</th>\n",
        "      <td> 803.30</td>\n",
        "      <td> 4</td>\n",
        "      <td> 5</td>\n",
        "    </tr>\n",
        "    <tr>\n",
        "      <th>Ireland</th>\n",
        "      <td>  18.72</td>\n",
        "      <td> 3</td>\n",
        "      <td> 5</td>\n",
        "    </tr>\n",
        "    <tr>\n",
        "      <th>Italy</th>\n",
        "      <td> 117.92</td>\n",
        "      <td> 1</td>\n",
        "      <td> 5</td>\n",
        "    </tr>\n",
        "    <tr>\n",
        "      <th>Japan</th>\n",
        "      <td> 999.85</td>\n",
        "      <td> 5</td>\n",
        "      <td> 5</td>\n",
        "    </tr>\n",
        "    <tr>\n",
        "      <th>Portugal</th>\n",
        "      <td>  14.39</td>\n",
        "      <td> 1</td>\n",
        "      <td> 5</td>\n",
        "    </tr>\n",
        "    <tr>\n",
        "      <th>Spain</th>\n",
        "      <td> 561.57</td>\n",
        "      <td> 2</td>\n",
        "      <td> 5</td>\n",
        "    </tr>\n",
        "    <tr>\n",
        "      <th>United States</th>\n",
        "      <td>  17.36</td>\n",
        "      <td> 0</td>\n",
        "      <td> 5</td>\n",
        "    </tr>\n",
        "  </tbody>\n",
        "</table>\n",
        "</div>"
       ],
       "metadata": {},
       "output_type": "pyout",
       "prompt_number": 109,
       "text": [
        "               amount  risk  United States\n",
        "creditor                                  \n",
        "Britain        413.35     4              5\n",
        "France         957.03     5              5\n",
        "Germany        803.30     4              5\n",
        "Ireland         18.72     3              5\n",
        "Italy          117.92     1              5\n",
        "Japan          999.85     5              5\n",
        "Portugal        14.39     1              5\n",
        "Spain          561.57     2              5\n",
        "United States   17.36     0              5"
       ]
      }
     ],
     "prompt_number": 109
    },
    {
     "cell_type": "code",
     "collapsed": false,
     "input": [
      "creditor_sum"
     ],
     "language": "python",
     "metadata": {},
     "outputs": [
      {
       "html": [
        "<div style=\"max-height:1000px;max-width:1500px;overflow:auto;\">\n",
        "<table border=\"1\" class=\"dataframe\">\n",
        "  <thead>\n",
        "    <tr style=\"text-align: right;\">\n",
        "      <th></th>\n",
        "      <th>amount</th>\n",
        "      <th>risk</th>\n",
        "    </tr>\n",
        "    <tr>\n",
        "      <th>creditor</th>\n",
        "      <th></th>\n",
        "      <th></th>\n",
        "    </tr>\n",
        "  </thead>\n",
        "  <tbody>\n",
        "    <tr>\n",
        "      <th>Britain</th>\n",
        "      <td> 413.35</td>\n",
        "      <td> 4</td>\n",
        "    </tr>\n",
        "    <tr>\n",
        "      <th>France</th>\n",
        "      <td> 957.03</td>\n",
        "      <td> 5</td>\n",
        "    </tr>\n",
        "    <tr>\n",
        "      <th>Germany</th>\n",
        "      <td> 803.30</td>\n",
        "      <td> 4</td>\n",
        "    </tr>\n",
        "    <tr>\n",
        "      <th>Ireland</th>\n",
        "      <td>  18.72</td>\n",
        "      <td> 3</td>\n",
        "    </tr>\n",
        "    <tr>\n",
        "      <th>Italy</th>\n",
        "      <td> 117.92</td>\n",
        "      <td> 1</td>\n",
        "    </tr>\n",
        "    <tr>\n",
        "      <th>Japan</th>\n",
        "      <td> 999.85</td>\n",
        "      <td> 5</td>\n",
        "    </tr>\n",
        "    <tr>\n",
        "      <th>Portugal</th>\n",
        "      <td>  14.39</td>\n",
        "      <td> 1</td>\n",
        "    </tr>\n",
        "    <tr>\n",
        "      <th>Spain</th>\n",
        "      <td> 561.57</td>\n",
        "      <td> 2</td>\n",
        "    </tr>\n",
        "    <tr>\n",
        "      <th>United States</th>\n",
        "      <td>  17.36</td>\n",
        "      <td> 0</td>\n",
        "    </tr>\n",
        "  </tbody>\n",
        "</table>\n",
        "</div>"
       ],
       "metadata": {},
       "output_type": "pyout",
       "prompt_number": 110,
       "text": [
        "               amount  risk\n",
        "creditor                   \n",
        "Britain        413.35     4\n",
        "France         957.03     5\n",
        "Germany        803.30     4\n",
        "Ireland         18.72     3\n",
        "Italy          117.92     1\n",
        "Japan          999.85     5\n",
        "Portugal        14.39     1\n",
        "Spain          561.57     2\n",
        "United States   17.36     0"
       ]
      }
     ],
     "prompt_number": 110
    },
    {
     "cell_type": "code",
     "collapsed": false,
     "input": [
      "usa['amount'].values"
     ],
     "language": "python",
     "metadata": {},
     "outputs": [
      {
       "metadata": {},
       "output_type": "pyout",
       "prompt_number": 81,
       "text": [
        "array([  3.45000000e+02,   3.22000000e+02,   3.24000000e+02,\n",
        "         7.96000000e+02,   5.20000000e-01,   1.63000000e+02])"
       ]
      }
     ],
     "prompt_number": 81
    },
    {
     "cell_type": "code",
     "collapsed": false,
     "input": [
      "table2 = np.genfromtxt('debt.csv')"
     ],
     "language": "python",
     "metadata": {},
     "outputs": [
      {
       "ename": "ValueError",
       "evalue": "Some errors were detected !\n    Line #6 (got 2 columns instead of 1)\n    Line #14 (got 2 columns instead of 1)\n    Line #20 (got 2 columns instead of 1)\n    Line #35 (got 2 columns instead of 1)\n    Line #38 (got 2 columns instead of 1)\n    Line #43 (got 2 columns instead of 1)\n    Line #44 (got 2 columns instead of 1)\n    Line #45 (got 2 columns instead of 1)\n    Line #46 (got 2 columns instead of 1)",
       "output_type": "pyerr",
       "traceback": [
        "\u001b[1;31m---------------------------------------------------------------------------\u001b[0m\n\u001b[1;31mValueError\u001b[0m                                Traceback (most recent call last)",
        "\u001b[1;32m<ipython-input-117-abc84f78fce1>\u001b[0m in \u001b[0;36m<module>\u001b[1;34m()\u001b[0m\n\u001b[1;32m----> 1\u001b[1;33m \u001b[0mtable2\u001b[0m \u001b[1;33m=\u001b[0m \u001b[0mnp\u001b[0m\u001b[1;33m.\u001b[0m\u001b[0mgenfromtxt\u001b[0m\u001b[1;33m(\u001b[0m\u001b[1;34m'debt.csv'\u001b[0m\u001b[1;33m)\u001b[0m\u001b[1;33m\u001b[0m\u001b[0m\n\u001b[0m",
        "\u001b[1;32m/home/atproofer/anaconda/lib/python2.7/site-packages/numpy/lib/npyio.pyc\u001b[0m in \u001b[0;36mgenfromtxt\u001b[1;34m(fname, dtype, comments, delimiter, skiprows, skip_header, skip_footer, converters, missing, missing_values, filling_values, usecols, names, excludelist, deletechars, replace_space, autostrip, case_sensitive, defaultfmt, unpack, usemask, loose, invalid_raise)\u001b[0m\n\u001b[0;32m   1686\u001b[0m             \u001b[1;31m# Raise an exception ?\u001b[0m\u001b[1;33m\u001b[0m\u001b[1;33m\u001b[0m\u001b[0m\n\u001b[0;32m   1687\u001b[0m             \u001b[1;32mif\u001b[0m \u001b[0minvalid_raise\u001b[0m\u001b[1;33m:\u001b[0m\u001b[1;33m\u001b[0m\u001b[0m\n\u001b[1;32m-> 1688\u001b[1;33m                 \u001b[1;32mraise\u001b[0m \u001b[0mValueError\u001b[0m\u001b[1;33m(\u001b[0m\u001b[0merrmsg\u001b[0m\u001b[1;33m)\u001b[0m\u001b[1;33m\u001b[0m\u001b[0m\n\u001b[0m\u001b[0;32m   1689\u001b[0m             \u001b[1;31m# Issue a warning ?\u001b[0m\u001b[1;33m\u001b[0m\u001b[1;33m\u001b[0m\u001b[0m\n\u001b[0;32m   1690\u001b[0m             \u001b[1;32melse\u001b[0m\u001b[1;33m:\u001b[0m\u001b[1;33m\u001b[0m\u001b[0m\n",
        "\u001b[1;31mValueError\u001b[0m: Some errors were detected !\n    Line #6 (got 2 columns instead of 1)\n    Line #14 (got 2 columns instead of 1)\n    Line #20 (got 2 columns instead of 1)\n    Line #35 (got 2 columns instead of 1)\n    Line #38 (got 2 columns instead of 1)\n    Line #43 (got 2 columns instead of 1)\n    Line #44 (got 2 columns instead of 1)\n    Line #45 (got 2 columns instead of 1)\n    Line #46 (got 2 columns instead of 1)"
       ]
      }
     ],
     "prompt_number": 117
    },
    {
     "cell_type": "code",
     "collapsed": false,
     "input": [
      "table2 = df2.values"
     ],
     "language": "python",
     "metadata": {},
     "outputs": [],
     "prompt_number": 120
    },
    {
     "cell_type": "code",
     "collapsed": false,
     "input": [
      "creditors_table = copy.deepcopy(names)\n",
      "for i range(len(table2)):\n",
      "    table2[i]\n",
      "    "
     ],
     "language": "python",
     "metadata": {},
     "outputs": []
    },
    {
     "cell_type": "code",
     "collapsed": false,
     "input": [
      "ct = {}"
     ],
     "language": "python",
     "metadata": {},
     "outputs": [
      {
       "metadata": {},
       "output_type": "pyout",
       "prompt_number": 131,
       "text": [
        "['Britain',\n",
        " 'France',\n",
        " 'Germany',\n",
        " 'Ireland',\n",
        " 'Italy',\n",
        " 'Japan',\n",
        " 'Portugal',\n",
        " 'Spain',\n",
        " 'United States']"
       ]
      }
     ],
     "prompt_number": 131
    },
    {
     "cell_type": "code",
     "collapsed": false,
     "input": [
      "ct = {name: {name: 0 for name in names} for name in names}"
     ],
     "language": "python",
     "metadata": {},
     "outputs": [],
     "prompt_number": 128
    },
    {
     "cell_type": "code",
     "collapsed": false,
     "input": [
      "for i in range(len(table2)):\n",
      "    ct[table2[1,i]][table2[2,i]] = table2[3,i]\n",
      "    "
     ],
     "language": "python",
     "metadata": {},
     "outputs": [
      {
       "ename": "KeyError",
       "evalue": "'Greece'",
       "output_type": "pyerr",
       "traceback": [
        "\u001b[1;31m---------------------------------------------------------------------------\u001b[0m\n\u001b[1;31mKeyError\u001b[0m                                  Traceback (most recent call last)",
        "\u001b[1;32m<ipython-input-130-dbce3180bce7>\u001b[0m in \u001b[0;36m<module>\u001b[1;34m()\u001b[0m\n\u001b[0;32m      1\u001b[0m \u001b[1;32mfor\u001b[0m \u001b[0mi\u001b[0m \u001b[1;32min\u001b[0m \u001b[0mrange\u001b[0m\u001b[1;33m(\u001b[0m\u001b[0mlen\u001b[0m\u001b[1;33m(\u001b[0m\u001b[0mtable2\u001b[0m\u001b[1;33m)\u001b[0m\u001b[1;33m)\u001b[0m\u001b[1;33m:\u001b[0m\u001b[1;33m\u001b[0m\u001b[0m\n\u001b[1;32m----> 2\u001b[1;33m     \u001b[0mct\u001b[0m\u001b[1;33m[\u001b[0m\u001b[0mtable2\u001b[0m\u001b[1;33m[\u001b[0m\u001b[1;36m1\u001b[0m\u001b[1;33m,\u001b[0m\u001b[0mi\u001b[0m\u001b[1;33m]\u001b[0m\u001b[1;33m]\u001b[0m\u001b[1;33m[\u001b[0m\u001b[0mtable2\u001b[0m\u001b[1;33m[\u001b[0m\u001b[1;36m2\u001b[0m\u001b[1;33m,\u001b[0m\u001b[0mi\u001b[0m\u001b[1;33m]\u001b[0m\u001b[1;33m]\u001b[0m \u001b[1;33m=\u001b[0m \u001b[0mtable2\u001b[0m\u001b[1;33m[\u001b[0m\u001b[1;36m3\u001b[0m\u001b[1;33m,\u001b[0m\u001b[0mi\u001b[0m\u001b[1;33m]\u001b[0m\u001b[1;33m\u001b[0m\u001b[0m\n\u001b[0m\u001b[0;32m      3\u001b[0m \u001b[1;33m\u001b[0m\u001b[0m\n",
        "\u001b[1;31mKeyError\u001b[0m: 'Greece'"
       ]
      }
     ],
     "prompt_number": 130
    }
   ],
   "metadata": {}
  }
 ]
}